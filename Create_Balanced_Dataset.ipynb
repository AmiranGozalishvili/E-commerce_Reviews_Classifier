{
  "nbformat": 4,
  "nbformat_minor": 0,
  "metadata": {
    "colab": {
      "name": "Datasets.ipynb",
      "provenance": [],
      "collapsed_sections": [],
      "authorship_tag": "ABX9TyOHqsAN9tMz2onWw5dQlviD",
      "include_colab_link": true
    },
    "kernelspec": {
      "name": "python3",
      "display_name": "Python 3"
    },
    "language_info": {
      "name": "python"
    },
    "widgets": {
      "application/vnd.jupyter.widget-state+json": {
        "3b687cb766df47dcb899908d1e423674": {
          "model_module": "@jupyter-widgets/controls",
          "model_name": "HBoxModel",
          "model_module_version": "1.5.0",
          "state": {
            "_view_name": "HBoxView",
            "_dom_classes": [],
            "_model_name": "HBoxModel",
            "_view_module": "@jupyter-widgets/controls",
            "_model_module_version": "1.5.0",
            "_view_count": null,
            "_view_module_version": "1.5.0",
            "box_style": "",
            "layout": "IPY_MODEL_9b141c00cd174af4a92cd5bb5d2e8cb9",
            "_model_module": "@jupyter-widgets/controls",
            "children": [
              "IPY_MODEL_bf863f8a7e2e466187422fe61baeb415",
              "IPY_MODEL_4233068fb9364ac99e6680e4edc5255e"
            ]
          }
        },
        "9b141c00cd174af4a92cd5bb5d2e8cb9": {
          "model_module": "@jupyter-widgets/base",
          "model_name": "LayoutModel",
          "model_module_version": "1.2.0",
          "state": {
            "_view_name": "LayoutView",
            "grid_template_rows": null,
            "right": null,
            "justify_content": null,
            "_view_module": "@jupyter-widgets/base",
            "overflow": null,
            "_model_module_version": "1.2.0",
            "_view_count": null,
            "flex_flow": null,
            "width": null,
            "min_width": null,
            "border": null,
            "align_items": null,
            "bottom": null,
            "_model_module": "@jupyter-widgets/base",
            "top": null,
            "grid_column": null,
            "overflow_y": null,
            "overflow_x": null,
            "grid_auto_flow": null,
            "grid_area": null,
            "grid_template_columns": null,
            "flex": null,
            "_model_name": "LayoutModel",
            "justify_items": null,
            "grid_row": null,
            "max_height": null,
            "align_content": null,
            "visibility": null,
            "align_self": null,
            "height": null,
            "min_height": null,
            "padding": null,
            "grid_auto_rows": null,
            "grid_gap": null,
            "max_width": null,
            "order": null,
            "_view_module_version": "1.2.0",
            "grid_template_areas": null,
            "object_position": null,
            "object_fit": null,
            "grid_auto_columns": null,
            "margin": null,
            "display": null,
            "left": null
          }
        },
        "bf863f8a7e2e466187422fe61baeb415": {
          "model_module": "@jupyter-widgets/controls",
          "model_name": "FloatProgressModel",
          "model_module_version": "1.5.0",
          "state": {
            "_view_name": "ProgressView",
            "style": "IPY_MODEL_f4cea608b6ff47c1b51d07cb202fbfc6",
            "_dom_classes": [],
            "description": "100%",
            "_model_name": "FloatProgressModel",
            "bar_style": "success",
            "max": 22641,
            "_view_module": "@jupyter-widgets/controls",
            "_model_module_version": "1.5.0",
            "value": 22641,
            "_view_count": null,
            "_view_module_version": "1.5.0",
            "orientation": "horizontal",
            "min": 0,
            "description_tooltip": null,
            "_model_module": "@jupyter-widgets/controls",
            "layout": "IPY_MODEL_c6107e7495254b4bb7aeb4b0c580cd97"
          }
        },
        "4233068fb9364ac99e6680e4edc5255e": {
          "model_module": "@jupyter-widgets/controls",
          "model_name": "HTMLModel",
          "model_module_version": "1.5.0",
          "state": {
            "_view_name": "HTMLView",
            "style": "IPY_MODEL_25d8127dbc5d45dfa8dcaed40a8babb6",
            "_dom_classes": [],
            "description": "",
            "_model_name": "HTMLModel",
            "placeholder": "​",
            "_view_module": "@jupyter-widgets/controls",
            "_model_module_version": "1.5.0",
            "value": " 22641/22641 [00:07&lt;00:00, 3081.80it/s]",
            "_view_count": null,
            "_view_module_version": "1.5.0",
            "description_tooltip": null,
            "_model_module": "@jupyter-widgets/controls",
            "layout": "IPY_MODEL_de3999d1644e4d2e9ec26f71074b6fb8"
          }
        },
        "f4cea608b6ff47c1b51d07cb202fbfc6": {
          "model_module": "@jupyter-widgets/controls",
          "model_name": "ProgressStyleModel",
          "model_module_version": "1.5.0",
          "state": {
            "_view_name": "StyleView",
            "_model_name": "ProgressStyleModel",
            "description_width": "initial",
            "_view_module": "@jupyter-widgets/base",
            "_model_module_version": "1.5.0",
            "_view_count": null,
            "_view_module_version": "1.2.0",
            "bar_color": null,
            "_model_module": "@jupyter-widgets/controls"
          }
        },
        "c6107e7495254b4bb7aeb4b0c580cd97": {
          "model_module": "@jupyter-widgets/base",
          "model_name": "LayoutModel",
          "model_module_version": "1.2.0",
          "state": {
            "_view_name": "LayoutView",
            "grid_template_rows": null,
            "right": null,
            "justify_content": null,
            "_view_module": "@jupyter-widgets/base",
            "overflow": null,
            "_model_module_version": "1.2.0",
            "_view_count": null,
            "flex_flow": null,
            "width": null,
            "min_width": null,
            "border": null,
            "align_items": null,
            "bottom": null,
            "_model_module": "@jupyter-widgets/base",
            "top": null,
            "grid_column": null,
            "overflow_y": null,
            "overflow_x": null,
            "grid_auto_flow": null,
            "grid_area": null,
            "grid_template_columns": null,
            "flex": null,
            "_model_name": "LayoutModel",
            "justify_items": null,
            "grid_row": null,
            "max_height": null,
            "align_content": null,
            "visibility": null,
            "align_self": null,
            "height": null,
            "min_height": null,
            "padding": null,
            "grid_auto_rows": null,
            "grid_gap": null,
            "max_width": null,
            "order": null,
            "_view_module_version": "1.2.0",
            "grid_template_areas": null,
            "object_position": null,
            "object_fit": null,
            "grid_auto_columns": null,
            "margin": null,
            "display": null,
            "left": null
          }
        },
        "25d8127dbc5d45dfa8dcaed40a8babb6": {
          "model_module": "@jupyter-widgets/controls",
          "model_name": "DescriptionStyleModel",
          "model_module_version": "1.5.0",
          "state": {
            "_view_name": "StyleView",
            "_model_name": "DescriptionStyleModel",
            "description_width": "",
            "_view_module": "@jupyter-widgets/base",
            "_model_module_version": "1.5.0",
            "_view_count": null,
            "_view_module_version": "1.2.0",
            "_model_module": "@jupyter-widgets/controls"
          }
        },
        "de3999d1644e4d2e9ec26f71074b6fb8": {
          "model_module": "@jupyter-widgets/base",
          "model_name": "LayoutModel",
          "model_module_version": "1.2.0",
          "state": {
            "_view_name": "LayoutView",
            "grid_template_rows": null,
            "right": null,
            "justify_content": null,
            "_view_module": "@jupyter-widgets/base",
            "overflow": null,
            "_model_module_version": "1.2.0",
            "_view_count": null,
            "flex_flow": null,
            "width": null,
            "min_width": null,
            "border": null,
            "align_items": null,
            "bottom": null,
            "_model_module": "@jupyter-widgets/base",
            "top": null,
            "grid_column": null,
            "overflow_y": null,
            "overflow_x": null,
            "grid_auto_flow": null,
            "grid_area": null,
            "grid_template_columns": null,
            "flex": null,
            "_model_name": "LayoutModel",
            "justify_items": null,
            "grid_row": null,
            "max_height": null,
            "align_content": null,
            "visibility": null,
            "align_self": null,
            "height": null,
            "min_height": null,
            "padding": null,
            "grid_auto_rows": null,
            "grid_gap": null,
            "max_width": null,
            "order": null,
            "_view_module_version": "1.2.0",
            "grid_template_areas": null,
            "object_position": null,
            "object_fit": null,
            "grid_auto_columns": null,
            "margin": null,
            "display": null,
            "left": null
          }
        },
        "bf6dfe28a78142679ea92818ac0d5174": {
          "model_module": "@jupyter-widgets/controls",
          "model_name": "HBoxModel",
          "model_module_version": "1.5.0",
          "state": {
            "_view_name": "HBoxView",
            "_dom_classes": [],
            "_model_name": "HBoxModel",
            "_view_module": "@jupyter-widgets/controls",
            "_model_module_version": "1.5.0",
            "_view_count": null,
            "_view_module_version": "1.5.0",
            "box_style": "",
            "layout": "IPY_MODEL_b19b3acc1d92473da8c5f8011d484ce3",
            "_model_module": "@jupyter-widgets/controls",
            "children": [
              "IPY_MODEL_534ca32cd25b415ba82d3c6dcf4c53a4",
              "IPY_MODEL_fb797a10326c42eebc5d157b41f004dc"
            ]
          }
        },
        "b19b3acc1d92473da8c5f8011d484ce3": {
          "model_module": "@jupyter-widgets/base",
          "model_name": "LayoutModel",
          "model_module_version": "1.2.0",
          "state": {
            "_view_name": "LayoutView",
            "grid_template_rows": null,
            "right": null,
            "justify_content": null,
            "_view_module": "@jupyter-widgets/base",
            "overflow": null,
            "_model_module_version": "1.2.0",
            "_view_count": null,
            "flex_flow": null,
            "width": null,
            "min_width": null,
            "border": null,
            "align_items": null,
            "bottom": null,
            "_model_module": "@jupyter-widgets/base",
            "top": null,
            "grid_column": null,
            "overflow_y": null,
            "overflow_x": null,
            "grid_auto_flow": null,
            "grid_area": null,
            "grid_template_columns": null,
            "flex": null,
            "_model_name": "LayoutModel",
            "justify_items": null,
            "grid_row": null,
            "max_height": null,
            "align_content": null,
            "visibility": null,
            "align_self": null,
            "height": null,
            "min_height": null,
            "padding": null,
            "grid_auto_rows": null,
            "grid_gap": null,
            "max_width": null,
            "order": null,
            "_view_module_version": "1.2.0",
            "grid_template_areas": null,
            "object_position": null,
            "object_fit": null,
            "grid_auto_columns": null,
            "margin": null,
            "display": null,
            "left": null
          }
        },
        "534ca32cd25b415ba82d3c6dcf4c53a4": {
          "model_module": "@jupyter-widgets/controls",
          "model_name": "FloatProgressModel",
          "model_module_version": "1.5.0",
          "state": {
            "_view_name": "ProgressView",
            "style": "IPY_MODEL_35664d742e29456581a88087addbd836",
            "_dom_classes": [],
            "description": "100%",
            "_model_name": "FloatProgressModel",
            "bar_style": "success",
            "max": 22641,
            "_view_module": "@jupyter-widgets/controls",
            "_model_module_version": "1.5.0",
            "value": 22641,
            "_view_count": null,
            "_view_module_version": "1.5.0",
            "orientation": "horizontal",
            "min": 0,
            "description_tooltip": null,
            "_model_module": "@jupyter-widgets/controls",
            "layout": "IPY_MODEL_1c2ceb3bf4a24212a576c5a2de38132a"
          }
        },
        "fb797a10326c42eebc5d157b41f004dc": {
          "model_module": "@jupyter-widgets/controls",
          "model_name": "HTMLModel",
          "model_module_version": "1.5.0",
          "state": {
            "_view_name": "HTMLView",
            "style": "IPY_MODEL_59b90c6d90954c7ab7004b5668df1ab2",
            "_dom_classes": [],
            "description": "",
            "_model_name": "HTMLModel",
            "placeholder": "​",
            "_view_module": "@jupyter-widgets/controls",
            "_model_module_version": "1.5.0",
            "value": " 22641/22641 [00:02&lt;00:00, 9791.72it/s]",
            "_view_count": null,
            "_view_module_version": "1.5.0",
            "description_tooltip": null,
            "_model_module": "@jupyter-widgets/controls",
            "layout": "IPY_MODEL_3c21866a4dea4550bec41659f6898de1"
          }
        },
        "35664d742e29456581a88087addbd836": {
          "model_module": "@jupyter-widgets/controls",
          "model_name": "ProgressStyleModel",
          "model_module_version": "1.5.0",
          "state": {
            "_view_name": "StyleView",
            "_model_name": "ProgressStyleModel",
            "description_width": "initial",
            "_view_module": "@jupyter-widgets/base",
            "_model_module_version": "1.5.0",
            "_view_count": null,
            "_view_module_version": "1.2.0",
            "bar_color": null,
            "_model_module": "@jupyter-widgets/controls"
          }
        },
        "1c2ceb3bf4a24212a576c5a2de38132a": {
          "model_module": "@jupyter-widgets/base",
          "model_name": "LayoutModel",
          "model_module_version": "1.2.0",
          "state": {
            "_view_name": "LayoutView",
            "grid_template_rows": null,
            "right": null,
            "justify_content": null,
            "_view_module": "@jupyter-widgets/base",
            "overflow": null,
            "_model_module_version": "1.2.0",
            "_view_count": null,
            "flex_flow": null,
            "width": null,
            "min_width": null,
            "border": null,
            "align_items": null,
            "bottom": null,
            "_model_module": "@jupyter-widgets/base",
            "top": null,
            "grid_column": null,
            "overflow_y": null,
            "overflow_x": null,
            "grid_auto_flow": null,
            "grid_area": null,
            "grid_template_columns": null,
            "flex": null,
            "_model_name": "LayoutModel",
            "justify_items": null,
            "grid_row": null,
            "max_height": null,
            "align_content": null,
            "visibility": null,
            "align_self": null,
            "height": null,
            "min_height": null,
            "padding": null,
            "grid_auto_rows": null,
            "grid_gap": null,
            "max_width": null,
            "order": null,
            "_view_module_version": "1.2.0",
            "grid_template_areas": null,
            "object_position": null,
            "object_fit": null,
            "grid_auto_columns": null,
            "margin": null,
            "display": null,
            "left": null
          }
        },
        "59b90c6d90954c7ab7004b5668df1ab2": {
          "model_module": "@jupyter-widgets/controls",
          "model_name": "DescriptionStyleModel",
          "model_module_version": "1.5.0",
          "state": {
            "_view_name": "StyleView",
            "_model_name": "DescriptionStyleModel",
            "description_width": "",
            "_view_module": "@jupyter-widgets/base",
            "_model_module_version": "1.5.0",
            "_view_count": null,
            "_view_module_version": "1.2.0",
            "_model_module": "@jupyter-widgets/controls"
          }
        },
        "3c21866a4dea4550bec41659f6898de1": {
          "model_module": "@jupyter-widgets/base",
          "model_name": "LayoutModel",
          "model_module_version": "1.2.0",
          "state": {
            "_view_name": "LayoutView",
            "grid_template_rows": null,
            "right": null,
            "justify_content": null,
            "_view_module": "@jupyter-widgets/base",
            "overflow": null,
            "_model_module_version": "1.2.0",
            "_view_count": null,
            "flex_flow": null,
            "width": null,
            "min_width": null,
            "border": null,
            "align_items": null,
            "bottom": null,
            "_model_module": "@jupyter-widgets/base",
            "top": null,
            "grid_column": null,
            "overflow_y": null,
            "overflow_x": null,
            "grid_auto_flow": null,
            "grid_area": null,
            "grid_template_columns": null,
            "flex": null,
            "_model_name": "LayoutModel",
            "justify_items": null,
            "grid_row": null,
            "max_height": null,
            "align_content": null,
            "visibility": null,
            "align_self": null,
            "height": null,
            "min_height": null,
            "padding": null,
            "grid_auto_rows": null,
            "grid_gap": null,
            "max_width": null,
            "order": null,
            "_view_module_version": "1.2.0",
            "grid_template_areas": null,
            "object_position": null,
            "object_fit": null,
            "grid_auto_columns": null,
            "margin": null,
            "display": null,
            "left": null
          }
        },
        "810d5da2cbb044eda3854791ac500604": {
          "model_module": "@jupyter-widgets/controls",
          "model_name": "HBoxModel",
          "model_module_version": "1.5.0",
          "state": {
            "_view_name": "HBoxView",
            "_dom_classes": [],
            "_model_name": "HBoxModel",
            "_view_module": "@jupyter-widgets/controls",
            "_model_module_version": "1.5.0",
            "_view_count": null,
            "_view_module_version": "1.5.0",
            "box_style": "",
            "layout": "IPY_MODEL_e5d641cd8cd544e1b886bd5ef6799f3d",
            "_model_module": "@jupyter-widgets/controls",
            "children": [
              "IPY_MODEL_b8f74b44402449a1a81db8c8de8b6836",
              "IPY_MODEL_713b8f40625644cd9e18ac6def9a6818"
            ]
          }
        },
        "e5d641cd8cd544e1b886bd5ef6799f3d": {
          "model_module": "@jupyter-widgets/base",
          "model_name": "LayoutModel",
          "model_module_version": "1.2.0",
          "state": {
            "_view_name": "LayoutView",
            "grid_template_rows": null,
            "right": null,
            "justify_content": null,
            "_view_module": "@jupyter-widgets/base",
            "overflow": null,
            "_model_module_version": "1.2.0",
            "_view_count": null,
            "flex_flow": null,
            "width": null,
            "min_width": null,
            "border": null,
            "align_items": null,
            "bottom": null,
            "_model_module": "@jupyter-widgets/base",
            "top": null,
            "grid_column": null,
            "overflow_y": null,
            "overflow_x": null,
            "grid_auto_flow": null,
            "grid_area": null,
            "grid_template_columns": null,
            "flex": null,
            "_model_name": "LayoutModel",
            "justify_items": null,
            "grid_row": null,
            "max_height": null,
            "align_content": null,
            "visibility": null,
            "align_self": null,
            "height": null,
            "min_height": null,
            "padding": null,
            "grid_auto_rows": null,
            "grid_gap": null,
            "max_width": null,
            "order": null,
            "_view_module_version": "1.2.0",
            "grid_template_areas": null,
            "object_position": null,
            "object_fit": null,
            "grid_auto_columns": null,
            "margin": null,
            "display": null,
            "left": null
          }
        },
        "b8f74b44402449a1a81db8c8de8b6836": {
          "model_module": "@jupyter-widgets/controls",
          "model_name": "FloatProgressModel",
          "model_module_version": "1.5.0",
          "state": {
            "_view_name": "ProgressView",
            "style": "IPY_MODEL_0280dde8bcd2471b88e1f829e1cdcf2e",
            "_dom_classes": [],
            "description": "100%",
            "_model_name": "FloatProgressModel",
            "bar_style": "success",
            "max": 22641,
            "_view_module": "@jupyter-widgets/controls",
            "_model_module_version": "1.5.0",
            "value": 22641,
            "_view_count": null,
            "_view_module_version": "1.5.0",
            "orientation": "horizontal",
            "min": 0,
            "description_tooltip": null,
            "_model_module": "@jupyter-widgets/controls",
            "layout": "IPY_MODEL_72f45c2593b74e6aace7e4b2e9d02eb4"
          }
        },
        "713b8f40625644cd9e18ac6def9a6818": {
          "model_module": "@jupyter-widgets/controls",
          "model_name": "HTMLModel",
          "model_module_version": "1.5.0",
          "state": {
            "_view_name": "HTMLView",
            "style": "IPY_MODEL_7d03c5adac9845e79caa8a4917078ba9",
            "_dom_classes": [],
            "description": "",
            "_model_name": "HTMLModel",
            "placeholder": "​",
            "_view_module": "@jupyter-widgets/controls",
            "_model_module_version": "1.5.0",
            "value": " 22641/22641 [26:29&lt;00:00, 14.24it/s]",
            "_view_count": null,
            "_view_module_version": "1.5.0",
            "description_tooltip": null,
            "_model_module": "@jupyter-widgets/controls",
            "layout": "IPY_MODEL_94fea21af4df4b04ab3863b1e562721b"
          }
        },
        "0280dde8bcd2471b88e1f829e1cdcf2e": {
          "model_module": "@jupyter-widgets/controls",
          "model_name": "ProgressStyleModel",
          "model_module_version": "1.5.0",
          "state": {
            "_view_name": "StyleView",
            "_model_name": "ProgressStyleModel",
            "description_width": "initial",
            "_view_module": "@jupyter-widgets/base",
            "_model_module_version": "1.5.0",
            "_view_count": null,
            "_view_module_version": "1.2.0",
            "bar_color": null,
            "_model_module": "@jupyter-widgets/controls"
          }
        },
        "72f45c2593b74e6aace7e4b2e9d02eb4": {
          "model_module": "@jupyter-widgets/base",
          "model_name": "LayoutModel",
          "model_module_version": "1.2.0",
          "state": {
            "_view_name": "LayoutView",
            "grid_template_rows": null,
            "right": null,
            "justify_content": null,
            "_view_module": "@jupyter-widgets/base",
            "overflow": null,
            "_model_module_version": "1.2.0",
            "_view_count": null,
            "flex_flow": null,
            "width": null,
            "min_width": null,
            "border": null,
            "align_items": null,
            "bottom": null,
            "_model_module": "@jupyter-widgets/base",
            "top": null,
            "grid_column": null,
            "overflow_y": null,
            "overflow_x": null,
            "grid_auto_flow": null,
            "grid_area": null,
            "grid_template_columns": null,
            "flex": null,
            "_model_name": "LayoutModel",
            "justify_items": null,
            "grid_row": null,
            "max_height": null,
            "align_content": null,
            "visibility": null,
            "align_self": null,
            "height": null,
            "min_height": null,
            "padding": null,
            "grid_auto_rows": null,
            "grid_gap": null,
            "max_width": null,
            "order": null,
            "_view_module_version": "1.2.0",
            "grid_template_areas": null,
            "object_position": null,
            "object_fit": null,
            "grid_auto_columns": null,
            "margin": null,
            "display": null,
            "left": null
          }
        },
        "7d03c5adac9845e79caa8a4917078ba9": {
          "model_module": "@jupyter-widgets/controls",
          "model_name": "DescriptionStyleModel",
          "model_module_version": "1.5.0",
          "state": {
            "_view_name": "StyleView",
            "_model_name": "DescriptionStyleModel",
            "description_width": "",
            "_view_module": "@jupyter-widgets/base",
            "_model_module_version": "1.5.0",
            "_view_count": null,
            "_view_module_version": "1.2.0",
            "_model_module": "@jupyter-widgets/controls"
          }
        },
        "94fea21af4df4b04ab3863b1e562721b": {
          "model_module": "@jupyter-widgets/base",
          "model_name": "LayoutModel",
          "model_module_version": "1.2.0",
          "state": {
            "_view_name": "LayoutView",
            "grid_template_rows": null,
            "right": null,
            "justify_content": null,
            "_view_module": "@jupyter-widgets/base",
            "overflow": null,
            "_model_module_version": "1.2.0",
            "_view_count": null,
            "flex_flow": null,
            "width": null,
            "min_width": null,
            "border": null,
            "align_items": null,
            "bottom": null,
            "_model_module": "@jupyter-widgets/base",
            "top": null,
            "grid_column": null,
            "overflow_y": null,
            "overflow_x": null,
            "grid_auto_flow": null,
            "grid_area": null,
            "grid_template_columns": null,
            "flex": null,
            "_model_name": "LayoutModel",
            "justify_items": null,
            "grid_row": null,
            "max_height": null,
            "align_content": null,
            "visibility": null,
            "align_self": null,
            "height": null,
            "min_height": null,
            "padding": null,
            "grid_auto_rows": null,
            "grid_gap": null,
            "max_width": null,
            "order": null,
            "_view_module_version": "1.2.0",
            "grid_template_areas": null,
            "object_position": null,
            "object_fit": null,
            "grid_auto_columns": null,
            "margin": null,
            "display": null,
            "left": null
          }
        }
      }
    }
  },
  "cells": [
    {
      "cell_type": "markdown",
      "metadata": {
        "id": "view-in-github",
        "colab_type": "text"
      },
      "source": [
        "<a href=\"https://colab.research.google.com/github/misha345a/E-commerce_Reviews_Classifier/blob/main/Balance_Datasets.ipynb\" target=\"_parent\"><img src=\"https://colab.research.google.com/assets/colab-badge.svg\" alt=\"Open In Colab\"/></a>"
      ]
    },
    {
      "cell_type": "markdown",
      "source": [
        "## Goal\n",
        "This script is used for cleaning the original Kaggle dataset, as well as preparing both **upsampled** and **text augmented** datasets for model training. <br> These steps are performed seperately because of their lengthy runtimes (i.e. augmentation requires 5hrs+).\n",
        "<br><br>\n",
        "Women's E-Commerce Clothing Reviews dataset from Kaggle:\n",
        "<br>\n",
        "https://www.kaggle.com/nicapotato/womens-ecommerce-clothing-reviews"
      ],
      "metadata": {
        "id": "a6EgaGuTa7yY"
      }
    },
    {
      "cell_type": "code",
      "execution_count": null,
      "metadata": {
        "id": "w9eJUaxBa1bb"
      },
      "outputs": [],
      "source": [
        "%%capture\n",
        "\n",
        "!pip install opendatasets\n",
        "!pip install contractions\n",
        "!pip install autocorrect\n",
        "!pip install openpyxl -U"
      ]
    },
    {
      "cell_type": "code",
      "source": [
        "# library imports\n",
        "import pandas as pd\n",
        "import opendatasets\n",
        "import contractions\n",
        "from autocorrect import Speller\n",
        "import matplotlib.pyplot as plt\n",
        "import seaborn as sns\n",
        "from tqdm.notebook import tqdm_notebook\n",
        "import nltk\n",
        "import re\n",
        "\n",
        "# initiate tqdm for pandas.apply() functions\n",
        "tqdm_notebook.pandas()"
      ],
      "metadata": {
        "id": "rXTD4wa4a35E"
      },
      "execution_count": null,
      "outputs": []
    },
    {
      "cell_type": "code",
      "source": [
        "# expand notebook display options for dataframes\n",
        "pd.set_option('display.max_colwidth', 200)\n",
        "pd.options.display.max_columns = 999\n",
        "pd.options.display.max_rows = 300"
      ],
      "metadata": {
        "id": "VYJ-cNjfa38C"
      },
      "execution_count": null,
      "outputs": []
    },
    {
      "cell_type": "markdown",
      "source": [
        "## Load Kaggle Dataset"
      ],
      "metadata": {
        "id": "fP-HnH29fRw2"
      }
    },
    {
      "cell_type": "code",
      "source": [
        "# option to directly retrieve the dataset from Kaggle\n",
        "kaggle_url = 'https://www.kaggle.com/nicapotato/womens-ecommerce-clothing-reviews'\n",
        "opendatasets.download(kaggle_url)"
      ],
      "metadata": {
        "colab": {
          "base_uri": "https://localhost:8080/"
        },
        "id": "u0KmZOqKa3_i",
        "outputId": "1f4da594-6398-4f49-d537-5b3b494dd0fd"
      },
      "execution_count": null,
      "outputs": [
        {
          "output_type": "stream",
          "name": "stdout",
          "text": [
            "Please provide your Kaggle credentials to download this dataset. Learn more: http://bit.ly/kaggle-creds\n",
            "Your Kaggle username: misha345\n",
            "Your Kaggle Key: ··········\n",
            "Downloading womens-ecommerce-clothing-reviews.zip to ./womens-ecommerce-clothing-reviews\n"
          ]
        },
        {
          "output_type": "stream",
          "name": "stderr",
          "text": [
            "100%|██████████| 2.79M/2.79M [00:00<00:00, 109MB/s]"
          ]
        },
        {
          "output_type": "stream",
          "name": "stdout",
          "text": [
            "\n"
          ]
        },
        {
          "output_type": "stream",
          "name": "stderr",
          "text": [
            "\n"
          ]
        }
      ]
    },
    {
      "cell_type": "code",
      "source": [
        "# load the dataset \n",
        "raw_data = pd.read_csv('/content/womens-ecommerce-clothing-reviews/Womens Clothing E-Commerce Reviews.csv')"
      ],
      "metadata": {
        "id": "7G68DN8fe0y7"
      },
      "execution_count": null,
      "outputs": []
    },
    {
      "cell_type": "code",
      "source": [
        "# remove irrelevant columns\n",
        "dataset = raw_data[['Review Text', 'Recommended IND']]\n",
        "\n",
        "# remove observations with missing reviews\n",
        "dataset = dataset[~dataset['Review Text'].isna()]"
      ],
      "metadata": {
        "id": "AyGzEyTde01t"
      },
      "execution_count": null,
      "outputs": []
    },
    {
      "cell_type": "markdown",
      "source": [
        "## Analysis of Target Classes "
      ],
      "metadata": {
        "id": "gYsCCfpxf4xQ"
      }
    },
    {
      "cell_type": "code",
      "source": [
        "# define observation counts within each class\n",
        "class_counts = dataset['Recommended IND'].value_counts()"
      ],
      "metadata": {
        "id": "fCaOz7MWe03Z"
      },
      "execution_count": null,
      "outputs": []
    },
    {
      "cell_type": "code",
      "source": [
        "# display a bar chart of the distribution\n",
        "plt.figure(figsize = (7, 5))\n",
        "\n",
        "# define colors\n",
        "colors = ['#528CAD' if (x < max(class_counts)) else '#FF914D' for x in class_counts]\n",
        "\n",
        "ax = sns.countplot(x=dataset['Recommended IND'], \n",
        "                   data=dataset,\n",
        "                   palette=colors)\n",
        "ax.set(title='Imbalanced Class Distribution')\n",
        "\n",
        "# place labels above each bar\n",
        "vals = class_counts.to_list()\n",
        "vals.sort()\n",
        "ax_labels = vals \n",
        "rects = ax.patches\n",
        "labels = [ax_labels[i] for i in range(len(rects))]\n",
        "\n",
        "for rect, label in zip(rects, labels):\n",
        "    height = rect.get_height()\n",
        "    ax.text(\n",
        "        rect.get_x() + rect.get_width() / 2, height + 5, label, ha=\"center\", va=\"bottom\"\n",
        "    )\n",
        "\n",
        "# edit x-tick labels\n",
        "ax.set_xticklabels(['0 (Not Recommended)', \"1 (Recommended)\"])\n",
        "\n",
        "# y-axis label\n",
        "ax.set_ylabel(\"Counts\")\n",
        "\n",
        "plt.show()"
      ],
      "metadata": {
        "colab": {
          "base_uri": "https://localhost:8080/",
          "height": 350
        },
        "id": "Xfc7Hyxqe05q",
        "outputId": "ba37fe30-aecc-4c00-8946-a92f12c0e3f3"
      },
      "execution_count": null,
      "outputs": [
        {
          "output_type": "display_data",
          "data": {
            "image/png": "[encoded data removed]",
            "text/plain": [
              "<Figure size 504x360 with 1 Axes>"
            ]
          },
          "metadata": {
            "needs_background": "light"
          }
        }
      ]
    },
    {
      "cell_type": "code",
      "source": [
        "# save the chart figure\n",
        "fig = ax.get_figure()\n",
        "fig.savefig('Class_Imbalance_BarChart.png', \n",
        "            dpi=75, \n",
        "            bbox_inches=\"tight\")"
      ],
      "metadata": {
        "id": "QzQPGwPde08A"
      },
      "execution_count": null,
      "outputs": []
    },
    {
      "cell_type": "markdown",
      "source": [
        "## Data Preprocessing\n",
        "- Lowercase text\n",
        "- Fix common slang and abbreviations\n",
        "- Expanding contractions\n",
        "- Autocorrect misspelled words"
      ],
      "metadata": {
        "id": "QeJhH4_m6sIR"
      }
    },
    {
      "cell_type": "code",
      "source": [
        "# make all characters uniformly lowercase\n",
        "dataset['Review Text'] = dataset['Review Text'].apply(lambda x: x.lower())"
      ],
      "metadata": {
        "id": "MRbCsEaie1BI"
      },
      "execution_count": null,
      "outputs": []
    },
    {
      "cell_type": "code",
      "source": [
        "def clean_slang(text): \n",
        "    \"\"\"\n",
        "    Correct common slang and abbreviations.\n",
        "    \"\"\"\n",
        "    text = re.sub(r\"\\babt?\\b\", \"about\", text)\n",
        "    text = re.sub(r\"\\bcomfy\\b\", \"comfortable\", text)\n",
        "    text = re.sub(r\"\\brll?y\\b\", \"really\", text)\n",
        "    text = re.sub(r\"\\bso{2,}\\b\", \"so\", text)\n",
        "    text = re.sub(r\"\\bmed\\b\", \"medium\", text)\n",
        "    text = re.sub(r\"\\bxx?s\\b\", \"extra small\", text)\n",
        "    text = re.sub(r\"\\bxx?l\\b\", \"extra large\", text)\n",
        "    text = re.sub(r\"\\bfab\\b\", \"fabulous\", text)\n",
        "    text = re.sub(r\"\\bblk\\b\", \"black\", text)\n",
        "    text = re.sub(r\"\\bpromo\\b\", \"promotion\", text)\n",
        "    text = re.sub(r\"\\btts\\b\", \"true to size\", text)\n",
        "    text = re.sub(r\"\\blbs?\\b\", \"pounds\", text)\n",
        "    text = re.sub(r\"\\brn\\b\", \"right now\", text)\n",
        "    text = re.sub(r\"\\bwanna\\b\", \"want to\", text)\n",
        "    text = re.sub(r\"\\besp\\b\", \"especially\", text)\n",
        "    text = re.sub(r\"\\bgonn[ao]\\b\", \"going to\", text)\n",
        "    text = re.sub(r\"\\btho\\b\", \"though\", text)\n",
        "    text = re.sub(r\"altho \", \"although \", text)\n",
        "    text = re.sub(r\"prolly\", \"probably\", text)\n",
        "    text = re.sub(r\"asap\", \"as soon as possible\", text)\n",
        "    text = re.sub(r\"\\bbc|b/c\\b\", \"because\", text)\n",
        "    text = re.sub(r\"\\bavail\\b\", \"available\", text)\n",
        "    text = re.sub(r\"\\bdiff\\b\", \"different\", text)\n",
        "    text = re.sub(r\"\\bnxt|enxt\\b\", \"next\", text)\n",
        "    text = re.sub(r\" w/ \", \" with \", text)\n",
        "    text = re.sub(r\"\\bdidn \", \"didn't \", text)\n",
        "    text = re.sub(r\" dnt \", \" don't \", text)\n",
        "    text = re.sub(r\"\\bsnd\\b\", \"send\", text)\n",
        "    text = re.sub(r\"b4\\b\", \"before\", text)\n",
        "    text = re.sub(r\"stink'n\", \"stinking\", text)\n",
        "    text = re.sub(r\"\\batm\\b\", \"at the moment\", text)\n",
        "    text = re.sub(r\"\\besp\\b\", \"especially\", text)\n",
        "    text = re.sub(r\"\\bavg\\b\", \"average\", text)\n",
        "    text = re.sub(r\"(\\d'|\\d\\\")\\s?(\\d+'|\\d+\\\")?\", \" \", text) # removes height measurements\n",
        "    text = re.sub(r\"'\\d+\\w+'\", \" \", text) \n",
        "    text = re.sub(r\"\\s{2,}\", \" \", text).strip() \n",
        "\n",
        "    return text"
      ],
      "metadata": {
        "id": "6yiLbRA0e1C-"
      },
      "execution_count": null,
      "outputs": []
    },
    {
      "cell_type": "code",
      "source": [
        "dataset['Review Text'] = dataset['Review Text'].progress_apply(clean_slang)"
      ],
      "metadata": {
        "colab": {
          "base_uri": "https://localhost:8080/",
          "height": 66,
          "referenced_widgets": [
            "3b687cb766df47dcb899908d1e423674",
            "9b141c00cd174af4a92cd5bb5d2e8cb9",
            "bf863f8a7e2e466187422fe61baeb415",
            "4233068fb9364ac99e6680e4edc5255e",
            "f4cea608b6ff47c1b51d07cb202fbfc6",
            "c6107e7495254b4bb7aeb4b0c580cd97",
            "25d8127dbc5d45dfa8dcaed40a8babb6",
            "de3999d1644e4d2e9ec26f71074b6fb8"
          ]
        },
        "id": "femL7KfbLSR9",
        "outputId": "b09d4d1b-67a2-4b6c-e8cf-64a2a3ba82ad"
      },
      "execution_count": null,
      "outputs": [
        {
          "output_type": "display_data",
          "data": {
            "application/vnd.jupyter.widget-view+json": {
              "model_id": "3b687cb766df47dcb899908d1e423674",
              "version_minor": 0,
              "version_major": 2
            },
            "text/plain": [
              "HBox(children=(FloatProgress(value=0.0, max=22641.0), HTML(value='')))"
            ]
          },
          "metadata": {}
        },
        {
          "output_type": "stream",
          "name": "stdout",
          "text": [
            "\n"
          ]
        }
      ]
    },
    {
      "cell_type": "code",
      "source": [
        "def cont_expand(text):\n",
        "    \"\"\"\n",
        "    Expand contractions (i.e don't->do not, can't->cannot).\n",
        "    \"\"\"\n",
        "    expanded_text = contractions.fix(text, slang=False)\n",
        "    return expanded_text\n",
        "\n",
        "# expand contractions\n",
        "dataset['Review Text'] = dataset['Review Text'].progress_apply(cont_expand)"
      ],
      "metadata": {
        "colab": {
          "base_uri": "https://localhost:8080/",
          "height": 66,
          "referenced_widgets": [
            "bf6dfe28a78142679ea92818ac0d5174",
            "b19b3acc1d92473da8c5f8011d484ce3",
            "534ca32cd25b415ba82d3c6dcf4c53a4",
            "fb797a10326c42eebc5d157b41f004dc",
            "35664d742e29456581a88087addbd836",
            "1c2ceb3bf4a24212a576c5a2de38132a",
            "59b90c6d90954c7ab7004b5668df1ab2",
            "3c21866a4dea4550bec41659f6898de1"
          ]
        },
        "id": "ypR_iwTEe1Hr",
        "outputId": "b6486f2b-d3a0-46f5-e736-5d87f6857c38"
      },
      "execution_count": null,
      "outputs": [
        {
          "output_type": "display_data",
          "data": {
            "application/vnd.jupyter.widget-view+json": {
              "model_id": "bf6dfe28a78142679ea92818ac0d5174",
              "version_minor": 0,
              "version_major": 2
            },
            "text/plain": [
              "HBox(children=(FloatProgress(value=0.0, max=22641.0), HTML(value='')))"
            ]
          },
          "metadata": {}
        },
        {
          "output_type": "stream",
          "name": "stdout",
          "text": [
            "\n"
          ]
        }
      ]
    },
    {
      "cell_type": "code",
      "source": [
        "# autocorrect misspelled words (~25 minute runtime)\n",
        "spell_check = Speller(lang='en')\n",
        "dataset['Review Text'] = dataset['Review Text'].progress_apply(lambda x: spell_check(str(x)))"
      ],
      "metadata": {
        "colab": {
          "base_uri": "https://localhost:8080/",
          "height": 66,
          "referenced_widgets": [
            "810d5da2cbb044eda3854791ac500604",
            "e5d641cd8cd544e1b886bd5ef6799f3d",
            "b8f74b44402449a1a81db8c8de8b6836",
            "713b8f40625644cd9e18ac6def9a6818",
            "0280dde8bcd2471b88e1f829e1cdcf2e",
            "72f45c2593b74e6aace7e4b2e9d02eb4",
            "7d03c5adac9845e79caa8a4917078ba9",
            "94fea21af4df4b04ab3863b1e562721b"
          ]
        },
        "id": "ikks481Ue1Kw",
        "outputId": "370806d6-2821-4191-c7d4-0674b3e13da8"
      },
      "execution_count": null,
      "outputs": [
        {
          "output_type": "display_data",
          "data": {
            "application/vnd.jupyter.widget-view+json": {
              "model_id": "810d5da2cbb044eda3854791ac500604",
              "version_minor": 0,
              "version_major": 2
            },
            "text/plain": [
              "HBox(children=(FloatProgress(value=0.0, max=22641.0), HTML(value='')))"
            ]
          },
          "metadata": {}
        },
        {
          "output_type": "stream",
          "name": "stdout",
          "text": [
            "\n"
          ]
        }
      ]
    },
    {
      "cell_type": "code",
      "source": [
        "# export to Excel\n",
        "dataset.to_excel(\"Raw_Dataset_(Cleaned).xlsx\", \n",
        "                 header=True, \n",
        "                 index=False)"
      ],
      "metadata": {
        "id": "7F-i4u1zDwHa"
      },
      "execution_count": null,
      "outputs": []
    },
    {
      "cell_type": "code",
      "source": [
        "dataset.sample(5)"
      ],
      "metadata": {
        "id": "jGTL5VFLEMLt"
      },
      "execution_count": null,
      "outputs": []
    },
    {
      "cell_type": "markdown",
      "source": [
        "## Upsampling (Sklearn)"
      ],
      "metadata": {
        "id": "JBmR4cZIMIPX"
      }
    },
    {
      "cell_type": "code",
      "source": [
        "from sklearn.utils import resample\n",
        "\n",
        "# upsample the minority class ('not-recommended') by duplicating random samples\n",
        "# 1 = recommended\n",
        "# 0 = not-recommended\n",
        "upsample = resample(dataset[dataset['Recommended IND']==0],\n",
        "                    replace=True, # sample with replacement\n",
        "                    n_samples=16104, # to match majority class\n",
        "                    random_state=42) # set reproducible results\n",
        "print(f\"Count of 'Not Recommended' examples (after upsampling): {len(upsample)}\")\n",
        "\n",
        "# combine the upsampled minority class with the rest of the data\n",
        "dataset = pd.concat([dataset[dataset['Recommended IND']!=0], upsample])"
      ],
      "metadata": {
        "colab": {
          "base_uri": "https://localhost:8080/"
        },
        "id": "SecnuuyMMIhL",
        "outputId": "73f26b9d-93a9-4287-e37b-dad8ee22f4f6"
      },
      "execution_count": null,
      "outputs": [
        {
          "output_type": "stream",
          "name": "stdout",
          "text": [
            "Count of 'Not Recommended' examples (after upsampling): 16104\n"
          ]
        }
      ]
    },
    {
      "cell_type": "code",
      "source": [
        "# export to Excel\n",
        "dataset.to_excel(\"Upsampled_Dataset.xlsx\", \n",
        "                 header=True, \n",
        "                 index=False)"
      ],
      "metadata": {
        "id": "y211wpVyMlpd"
      },
      "execution_count": null,
      "outputs": []
    },
    {
      "cell_type": "markdown",
      "source": [
        "## Text Augmentation\n",
        "\n",
        "1 = Recommended; 18540 values (82%) <br>\n",
        "0 = Not Recommended; 4101 values (18%) <br>\n",
        "\n",
        "<br>\n",
        "There are significantly more \"Recommended\" observations than \"Not-Recommended\". Text augmentation is performed to increase the number of minority class examples. Ideally, this will lessen the model's bias towards majority class predictions (\"Recommended\") during training. Words are randomly swapped, deleted, and substituted with synonyms using a pre-trained word embedding model.  \n",
        "<br>\n",
        "\n",
        "<hr>\n",
        "\n",
        "### Example: \n",
        "\n",
        "<u>Original</u>:\n",
        "<br>\n",
        "This shirt is very flattering to all due to the adjustable front tie. \n",
        "it is the perfect length to wear with leggings and it is sleeveless so it pairs well with any cardigan. love this shirt!!!\n",
        "\n",
        "<u>Augmented Text:</u>\n",
        "<br>\n",
        "<b>this design</b> is very flattering <b>to most eyes towards</b> the adjustable <b>rear clasp</b>. \n",
        "it was the perfect <b>blouse</b> to wear with leggings <b>because</b> it is sleeveless so it <b>fit</b> well <b>against the dress</b>.\n",
        "love this <b>stuff</b>!!!\n"
      ],
      "metadata": {
        "id": "4ZFzgntgcz9w"
      }
    },
    {
      "cell_type": "code",
      "source": [
        "%%capture\n",
        "\n",
        "!pip install textattack\n",
        "!pip install tensorflow_text"
      ],
      "metadata": {
        "id": "0QMV0_5lc4BX"
      },
      "execution_count": null,
      "outputs": []
    },
    {
      "cell_type": "code",
      "source": [
        "import pandas as pd\n",
        "\n",
        "from tqdm.notebook import tqdm_notebook\n",
        "import nltk\n",
        "import re\n",
        "\n",
        "# initiate tqdm for pandas.apply() functions\n",
        "tqdm_notebook.pandas()"
      ],
      "metadata": {
        "id": "EwiG1nALjY2x"
      },
      "execution_count": null,
      "outputs": []
    },
    {
      "cell_type": "code",
      "source": [
        "# load the dataset \n",
        "dataset = pd.read_excel('/content/Raw_Dataset_(Cleaned).xlsx')"
      ],
      "metadata": {
        "id": "8-x7kVKJc4ET"
      },
      "execution_count": null,
      "outputs": []
    },
    {
      "cell_type": "code",
      "source": [
        "# define a dataframe of only negative reviews\n",
        "df_not_recommend = dataset[dataset['Recommended IND']==0]"
      ],
      "metadata": {
        "id": "e5FaBbOtc4Gg"
      },
      "execution_count": null,
      "outputs": []
    },
    {
      "cell_type": "code",
      "source": [
        "# initialize the augmentation model\n",
        "from textattack.augmentation import EasyDataAugmenter\n",
        "aug = EasyDataAugmenter(pct_words_to_swap=0.25, \n",
        "                        transformations_per_example=3)"
      ],
      "metadata": {
        "id": "6rLyvhQkc4JV",
        "colab": {
          "base_uri": "https://localhost:8080/"
        },
        "outputId": "ce800d90-8d67-4380-b10b-c5503b179179"
      },
      "execution_count": null,
      "outputs": [
        {
          "output_type": "stream",
          "name": "stderr",
          "text": [
            "textattack: Updating TextAttack package dependencies.\n",
            "textattack: Downloading NLTK required packages.\n"
          ]
        },
        {
          "output_type": "stream",
          "name": "stdout",
          "text": [
            "[nltk_data] Downloading package averaged_perceptron_tagger to\n",
            "[nltk_data]     /root/nltk_data...\n",
            "[nltk_data]   Unzipping taggers/averaged_perceptron_tagger.zip.\n",
            "[nltk_data] Downloading package stopwords to /root/nltk_data...\n",
            "[nltk_data]   Unzipping corpora/stopwords.zip.\n",
            "[nltk_data] Downloading package omw to /root/nltk_data...\n",
            "[nltk_data]   Unzipping corpora/omw.zip.\n",
            "[nltk_data] Downloading package universal_tagset to /root/nltk_data...\n",
            "[nltk_data]   Unzipping taggers/universal_tagset.zip.\n",
            "[nltk_data] Downloading package wordnet to /root/nltk_data...\n",
            "[nltk_data]   Unzipping corpora/wordnet.zip.\n",
            "[nltk_data] Downloading package punkt to /root/nltk_data...\n",
            "[nltk_data]   Unzipping tokenizers/punkt.zip.\n"
          ]
        },
        {
          "output_type": "stream",
          "name": "stderr",
          "text": [
            "textattack: Downloading https://textattack.s3.amazonaws.com/word_embeddings/paragramcf.\n",
            "100%|██████████| 481M/481M [00:49<00:00, 9.79MB/s]\n",
            "textattack: Unzipping file /root/.cache/textattack/tmpqy4slwth.zip to /root/.cache/textattack/word_embeddings/paragramcf.\n",
            "textattack: Successfully saved word_embeddings/paragramcf to cache.\n"
          ]
        }
      ]
    },
    {
      "cell_type": "code",
      "source": [
        "aug_corpus = []\n",
        "\n",
        "def augmented_corpus(text):\n",
        "  \"\"\"\n",
        "  Augment text and append to an array.\n",
        "  \"\"\"\n",
        "  try:\n",
        "    aug_corpus.extend(aug.augment(text))\n",
        "  except:\n",
        "    pass"
      ],
      "metadata": {
        "id": "s-wfqfgIc4P_"
      },
      "execution_count": null,
      "outputs": []
    },
    {
      "cell_type": "code",
      "source": [
        "df_not_recommend['Review Text'].progress_apply(augmented_corpus)"
      ],
      "metadata": {
        "id": "ZRAwV-c5EMOn"
      },
      "execution_count": null,
      "outputs": []
    },
    {
      "cell_type": "code",
      "source": [
        "df_aug_result = pd.DataFrame(zip(aug_corpus, [0]*len(aug_corpus)), \n",
        "                             columns=['Review Text', 'Recommended IND'])\n",
        "\n",
        "# append augmented results to original 'Not Recommended' examples\n",
        "df_aug_result = df_not_recommend.append(df_aug_result)"
      ],
      "metadata": {
        "id": "qegS6A15mj4O"
      },
      "execution_count": null,
      "outputs": []
    },
    {
      "cell_type": "code",
      "source": [
        "# export to Excel\n",
        "df_aug_result.to_excel('Augmented_Dataset.xlsx', \n",
        "                        header=True, \n",
        "                        index=False)"
      ],
      "metadata": {
        "id": "P-hSNyfiTVgu"
      },
      "execution_count": null,
      "outputs": []
    },
    {
      "cell_type": "code",
      "source": [
        "print(len(df_aug_result))"
      ],
      "metadata": {
        "id": "zCs9NclDQn4Y"
      },
      "execution_count": null,
      "outputs": []
    },
    {
      "cell_type": "markdown",
      "source": [
        "## Text Augmentation Example"
      ],
      "metadata": {
        "id": "PxlTXXWP158X"
      }
    },
    {
      "cell_type": "code",
      "source": [
        "aug.augment('these pants are beautiful but very sheer and very delicate. \\\n",
        "             not ideal for a mom with kids')"
      ],
      "metadata": {
        "id": "mPfx8CR_YqAT"
      },
      "execution_count": null,
      "outputs": []
    },
    {
      "cell_type": "code",
      "source": [
        ""
      ],
      "metadata": {
        "id": "E76ermYV173o"
      },
      "execution_count": null,
      "outputs": []
    }
  ]
}
