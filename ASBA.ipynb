{
  "nbformat": 4,
  "nbformat_minor": 0,
  "metadata": {
    "colab": {
      "name": "ASBA.ipynb",
      "provenance": [],
      "collapsed_sections": [],
      "authorship_tag": "ABX9TyNLtunP4YLOMaJkJPpdW+AZ",
      "include_colab_link": true
    },
    "kernelspec": {
      "name": "python3",
      "display_name": "Python 3"
    },
    "language_info": {
      "name": "python"
    },
    "widgets": {
      "application/vnd.jupyter.widget-state+json": {
        "39369500620542a1bb010291838eac39": {
          "model_module": "@jupyter-widgets/controls",
          "model_name": "HBoxModel",
          "model_module_version": "1.5.0",
          "state": {
            "_view_name": "HBoxView",
            "_dom_classes": [],
            "_model_name": "HBoxModel",
            "_view_module": "@jupyter-widgets/controls",
            "_model_module_version": "1.5.0",
            "_view_count": null,
            "_view_module_version": "1.5.0",
            "box_style": "",
            "layout": "IPY_MODEL_d035a064b37b4c7fa1c11ee12f209c47",
            "_model_module": "@jupyter-widgets/controls",
            "children": [
              "IPY_MODEL_888a7cf76a8441a2a33510db38f1bbe0",
              "IPY_MODEL_596531ba44c7471aa6440c28ee2cea5e",
              "IPY_MODEL_9a325b72bb1947e18853118b87d5fb6f"
            ]
          }
        },
        "d035a064b37b4c7fa1c11ee12f209c47": {
          "model_module": "@jupyter-widgets/base",
          "model_name": "LayoutModel",
          "model_module_version": "1.2.0",
          "state": {
            "_view_name": "LayoutView",
            "grid_template_rows": null,
            "right": null,
            "justify_content": null,
            "_view_module": "@jupyter-widgets/base",
            "overflow": null,
            "_model_module_version": "1.2.0",
            "_view_count": null,
            "flex_flow": null,
            "width": null,
            "min_width": null,
            "border": null,
            "align_items": null,
            "bottom": null,
            "_model_module": "@jupyter-widgets/base",
            "top": null,
            "grid_column": null,
            "overflow_y": null,
            "overflow_x": null,
            "grid_auto_flow": null,
            "grid_area": null,
            "grid_template_columns": null,
            "flex": null,
            "_model_name": "LayoutModel",
            "justify_items": null,
            "grid_row": null,
            "max_height": null,
            "align_content": null,
            "visibility": null,
            "align_self": null,
            "height": null,
            "min_height": null,
            "padding": null,
            "grid_auto_rows": null,
            "grid_gap": null,
            "max_width": null,
            "order": null,
            "_view_module_version": "1.2.0",
            "grid_template_areas": null,
            "object_position": null,
            "object_fit": null,
            "grid_auto_columns": null,
            "margin": null,
            "display": null,
            "left": null
          }
        },
        "888a7cf76a8441a2a33510db38f1bbe0": {
          "model_module": "@jupyter-widgets/controls",
          "model_name": "HTMLModel",
          "model_module_version": "1.5.0",
          "state": {
            "_view_name": "HTMLView",
            "style": "IPY_MODEL_ab91ae61a3a745488945e5666b95a836",
            "_dom_classes": [],
            "description": "",
            "_model_name": "HTMLModel",
            "placeholder": "​",
            "_view_module": "@jupyter-widgets/controls",
            "_model_module_version": "1.5.0",
            "value": "100%",
            "_view_count": null,
            "_view_module_version": "1.5.0",
            "description_tooltip": null,
            "_model_module": "@jupyter-widgets/controls",
            "layout": "IPY_MODEL_f55d8c6df7e34f8fa6e1b9b75f4ba5b7"
          }
        },
        "596531ba44c7471aa6440c28ee2cea5e": {
          "model_module": "@jupyter-widgets/controls",
          "model_name": "FloatProgressModel",
          "model_module_version": "1.5.0",
          "state": {
            "_view_name": "ProgressView",
            "style": "IPY_MODEL_96a6263536e94e3382c60d0a6e692776",
            "_dom_classes": [],
            "description": "",
            "_model_name": "FloatProgressModel",
            "bar_style": "success",
            "max": 270,
            "_view_module": "@jupyter-widgets/controls",
            "_model_module_version": "1.5.0",
            "value": 270,
            "_view_count": null,
            "_view_module_version": "1.5.0",
            "orientation": "horizontal",
            "min": 0,
            "description_tooltip": null,
            "_model_module": "@jupyter-widgets/controls",
            "layout": "IPY_MODEL_b90635c9355e483e84b7a637ea22aade"
          }
        },
        "9a325b72bb1947e18853118b87d5fb6f": {
          "model_module": "@jupyter-widgets/controls",
          "model_name": "HTMLModel",
          "model_module_version": "1.5.0",
          "state": {
            "_view_name": "HTMLView",
            "style": "IPY_MODEL_648726357b934d01b9451fdb26ef155f",
            "_dom_classes": [],
            "description": "",
            "_model_name": "HTMLModel",
            "placeholder": "​",
            "_view_module": "@jupyter-widgets/controls",
            "_model_module_version": "1.5.0",
            "value": " 270/270 [00:00&lt;00:00, 14.79it/s]",
            "_view_count": null,
            "_view_module_version": "1.5.0",
            "description_tooltip": null,
            "_model_module": "@jupyter-widgets/controls",
            "layout": "IPY_MODEL_bbc48a93c679462b9280ad091da27006"
          }
        },
        "ab91ae61a3a745488945e5666b95a836": {
          "model_module": "@jupyter-widgets/controls",
          "model_name": "DescriptionStyleModel",
          "model_module_version": "1.5.0",
          "state": {
            "_view_name": "StyleView",
            "_model_name": "DescriptionStyleModel",
            "description_width": "",
            "_view_module": "@jupyter-widgets/base",
            "_model_module_version": "1.5.0",
            "_view_count": null,
            "_view_module_version": "1.2.0",
            "_model_module": "@jupyter-widgets/controls"
          }
        },
        "f55d8c6df7e34f8fa6e1b9b75f4ba5b7": {
          "model_module": "@jupyter-widgets/base",
          "model_name": "LayoutModel",
          "model_module_version": "1.2.0",
          "state": {
            "_view_name": "LayoutView",
            "grid_template_rows": null,
            "right": null,
            "justify_content": null,
            "_view_module": "@jupyter-widgets/base",
            "overflow": null,
            "_model_module_version": "1.2.0",
            "_view_count": null,
            "flex_flow": null,
            "width": null,
            "min_width": null,
            "border": null,
            "align_items": null,
            "bottom": null,
            "_model_module": "@jupyter-widgets/base",
            "top": null,
            "grid_column": null,
            "overflow_y": null,
            "overflow_x": null,
            "grid_auto_flow": null,
            "grid_area": null,
            "grid_template_columns": null,
            "flex": null,
            "_model_name": "LayoutModel",
            "justify_items": null,
            "grid_row": null,
            "max_height": null,
            "align_content": null,
            "visibility": null,
            "align_self": null,
            "height": null,
            "min_height": null,
            "padding": null,
            "grid_auto_rows": null,
            "grid_gap": null,
            "max_width": null,
            "order": null,
            "_view_module_version": "1.2.0",
            "grid_template_areas": null,
            "object_position": null,
            "object_fit": null,
            "grid_auto_columns": null,
            "margin": null,
            "display": null,
            "left": null
          }
        },
        "96a6263536e94e3382c60d0a6e692776": {
          "model_module": "@jupyter-widgets/controls",
          "model_name": "ProgressStyleModel",
          "model_module_version": "1.5.0",
          "state": {
            "_view_name": "StyleView",
            "_model_name": "ProgressStyleModel",
            "description_width": "",
            "_view_module": "@jupyter-widgets/base",
            "_model_module_version": "1.5.0",
            "_view_count": null,
            "_view_module_version": "1.2.0",
            "bar_color": null,
            "_model_module": "@jupyter-widgets/controls"
          }
        },
        "b90635c9355e483e84b7a637ea22aade": {
          "model_module": "@jupyter-widgets/base",
          "model_name": "LayoutModel",
          "model_module_version": "1.2.0",
          "state": {
            "_view_name": "LayoutView",
            "grid_template_rows": null,
            "right": null,
            "justify_content": null,
            "_view_module": "@jupyter-widgets/base",
            "overflow": null,
            "_model_module_version": "1.2.0",
            "_view_count": null,
            "flex_flow": null,
            "width": null,
            "min_width": null,
            "border": null,
            "align_items": null,
            "bottom": null,
            "_model_module": "@jupyter-widgets/base",
            "top": null,
            "grid_column": null,
            "overflow_y": null,
            "overflow_x": null,
            "grid_auto_flow": null,
            "grid_area": null,
            "grid_template_columns": null,
            "flex": null,
            "_model_name": "LayoutModel",
            "justify_items": null,
            "grid_row": null,
            "max_height": null,
            "align_content": null,
            "visibility": null,
            "align_self": null,
            "height": null,
            "min_height": null,
            "padding": null,
            "grid_auto_rows": null,
            "grid_gap": null,
            "max_width": null,
            "order": null,
            "_view_module_version": "1.2.0",
            "grid_template_areas": null,
            "object_position": null,
            "object_fit": null,
            "grid_auto_columns": null,
            "margin": null,
            "display": null,
            "left": null
          }
        },
        "648726357b934d01b9451fdb26ef155f": {
          "model_module": "@jupyter-widgets/controls",
          "model_name": "DescriptionStyleModel",
          "model_module_version": "1.5.0",
          "state": {
            "_view_name": "StyleView",
            "_model_name": "DescriptionStyleModel",
            "description_width": "",
            "_view_module": "@jupyter-widgets/base",
            "_model_module_version": "1.5.0",
            "_view_count": null,
            "_view_module_version": "1.2.0",
            "_model_module": "@jupyter-widgets/controls"
          }
        },
        "bbc48a93c679462b9280ad091da27006": {
          "model_module": "@jupyter-widgets/base",
          "model_name": "LayoutModel",
          "model_module_version": "1.2.0",
          "state": {
            "_view_name": "LayoutView",
            "grid_template_rows": null,
            "right": null,
            "justify_content": null,
            "_view_module": "@jupyter-widgets/base",
            "overflow": null,
            "_model_module_version": "1.2.0",
            "_view_count": null,
            "flex_flow": null,
            "width": null,
            "min_width": null,
            "border": null,
            "align_items": null,
            "bottom": null,
            "_model_module": "@jupyter-widgets/base",
            "top": null,
            "grid_column": null,
            "overflow_y": null,
            "overflow_x": null,
            "grid_auto_flow": null,
            "grid_area": null,
            "grid_template_columns": null,
            "flex": null,
            "_model_name": "LayoutModel",
            "justify_items": null,
            "grid_row": null,
            "max_height": null,
            "align_content": null,
            "visibility": null,
            "align_self": null,
            "height": null,
            "min_height": null,
            "padding": null,
            "grid_auto_rows": null,
            "grid_gap": null,
            "max_width": null,
            "order": null,
            "_view_module_version": "1.2.0",
            "grid_template_areas": null,
            "object_position": null,
            "object_fit": null,
            "grid_auto_columns": null,
            "margin": null,
            "display": null,
            "left": null
          }
        },
        "111ab55f2dcd4e88ab0c3bb303da65f6": {
          "model_module": "@jupyter-widgets/controls",
          "model_name": "HBoxModel",
          "model_module_version": "1.5.0",
          "state": {
            "_view_name": "HBoxView",
            "_dom_classes": [],
            "_model_name": "HBoxModel",
            "_view_module": "@jupyter-widgets/controls",
            "_model_module_version": "1.5.0",
            "_view_count": null,
            "_view_module_version": "1.5.0",
            "box_style": "",
            "layout": "IPY_MODEL_46e9dd53d2bc40048431ee4bbd0aa41c",
            "_model_module": "@jupyter-widgets/controls",
            "children": [
              "IPY_MODEL_e32502127a0c4748b0df306d96e059ad",
              "IPY_MODEL_d04b41f4962448fa9d938af9dc31aab7",
              "IPY_MODEL_847c6f3d771c41d69953b297e3c1851d"
            ]
          }
        },
        "46e9dd53d2bc40048431ee4bbd0aa41c": {
          "model_module": "@jupyter-widgets/base",
          "model_name": "LayoutModel",
          "model_module_version": "1.2.0",
          "state": {
            "_view_name": "LayoutView",
            "grid_template_rows": null,
            "right": null,
            "justify_content": null,
            "_view_module": "@jupyter-widgets/base",
            "overflow": null,
            "_model_module_version": "1.2.0",
            "_view_count": null,
            "flex_flow": null,
            "width": null,
            "min_width": null,
            "border": null,
            "align_items": null,
            "bottom": null,
            "_model_module": "@jupyter-widgets/base",
            "top": null,
            "grid_column": null,
            "overflow_y": null,
            "overflow_x": null,
            "grid_auto_flow": null,
            "grid_area": null,
            "grid_template_columns": null,
            "flex": null,
            "_model_name": "LayoutModel",
            "justify_items": null,
            "grid_row": null,
            "max_height": null,
            "align_content": null,
            "visibility": null,
            "align_self": null,
            "height": null,
            "min_height": null,
            "padding": null,
            "grid_auto_rows": null,
            "grid_gap": null,
            "max_width": null,
            "order": null,
            "_view_module_version": "1.2.0",
            "grid_template_areas": null,
            "object_position": null,
            "object_fit": null,
            "grid_auto_columns": null,
            "margin": null,
            "display": null,
            "left": null
          }
        },
        "e32502127a0c4748b0df306d96e059ad": {
          "model_module": "@jupyter-widgets/controls",
          "model_name": "HTMLModel",
          "model_module_version": "1.5.0",
          "state": {
            "_view_name": "HTMLView",
            "style": "IPY_MODEL_14461f2d927e41f9a6c064d871978e36",
            "_dom_classes": [],
            "description": "",
            "_model_name": "HTMLModel",
            "placeholder": "​",
            "_view_module": "@jupyter-widgets/controls",
            "_model_module_version": "1.5.0",
            "value": "100%",
            "_view_count": null,
            "_view_module_version": "1.5.0",
            "description_tooltip": null,
            "_model_module": "@jupyter-widgets/controls",
            "layout": "IPY_MODEL_c16f53eeee204b2eaa3874b95b494b68"
          }
        },
        "d04b41f4962448fa9d938af9dc31aab7": {
          "model_module": "@jupyter-widgets/controls",
          "model_name": "FloatProgressModel",
          "model_module_version": "1.5.0",
          "state": {
            "_view_name": "ProgressView",
            "style": "IPY_MODEL_17c03f39a668424ea60c8d6acccc9a3c",
            "_dom_classes": [],
            "description": "",
            "_model_name": "FloatProgressModel",
            "bar_style": "success",
            "max": 270,
            "_view_module": "@jupyter-widgets/controls",
            "_model_module_version": "1.5.0",
            "value": 270,
            "_view_count": null,
            "_view_module_version": "1.5.0",
            "orientation": "horizontal",
            "min": 0,
            "description_tooltip": null,
            "_model_module": "@jupyter-widgets/controls",
            "layout": "IPY_MODEL_63b76c5b415f4f7bbedfdc630f873d43"
          }
        },
        "847c6f3d771c41d69953b297e3c1851d": {
          "model_module": "@jupyter-widgets/controls",
          "model_name": "HTMLModel",
          "model_module_version": "1.5.0",
          "state": {
            "_view_name": "HTMLView",
            "style": "IPY_MODEL_b61319f730da46cdb9a640a6ef44f228",
            "_dom_classes": [],
            "description": "",
            "_model_name": "HTMLModel",
            "placeholder": "​",
            "_view_module": "@jupyter-widgets/controls",
            "_model_module_version": "1.5.0",
            "value": " 270/270 [00:03&lt;00:00, 86.78it/s]",
            "_view_count": null,
            "_view_module_version": "1.5.0",
            "description_tooltip": null,
            "_model_module": "@jupyter-widgets/controls",
            "layout": "IPY_MODEL_4a79a93aaaea4016877a74cba15f7047"
          }
        },
        "14461f2d927e41f9a6c064d871978e36": {
          "model_module": "@jupyter-widgets/controls",
          "model_name": "DescriptionStyleModel",
          "model_module_version": "1.5.0",
          "state": {
            "_view_name": "StyleView",
            "_model_name": "DescriptionStyleModel",
            "description_width": "",
            "_view_module": "@jupyter-widgets/base",
            "_model_module_version": "1.5.0",
            "_view_count": null,
            "_view_module_version": "1.2.0",
            "_model_module": "@jupyter-widgets/controls"
          }
        },
        "c16f53eeee204b2eaa3874b95b494b68": {
          "model_module": "@jupyter-widgets/base",
          "model_name": "LayoutModel",
          "model_module_version": "1.2.0",
          "state": {
            "_view_name": "LayoutView",
            "grid_template_rows": null,
            "right": null,
            "justify_content": null,
            "_view_module": "@jupyter-widgets/base",
            "overflow": null,
            "_model_module_version": "1.2.0",
            "_view_count": null,
            "flex_flow": null,
            "width": null,
            "min_width": null,
            "border": null,
            "align_items": null,
            "bottom": null,
            "_model_module": "@jupyter-widgets/base",
            "top": null,
            "grid_column": null,
            "overflow_y": null,
            "overflow_x": null,
            "grid_auto_flow": null,
            "grid_area": null,
            "grid_template_columns": null,
            "flex": null,
            "_model_name": "LayoutModel",
            "justify_items": null,
            "grid_row": null,
            "max_height": null,
            "align_content": null,
            "visibility": null,
            "align_self": null,
            "height": null,
            "min_height": null,
            "padding": null,
            "grid_auto_rows": null,
            "grid_gap": null,
            "max_width": null,
            "order": null,
            "_view_module_version": "1.2.0",
            "grid_template_areas": null,
            "object_position": null,
            "object_fit": null,
            "grid_auto_columns": null,
            "margin": null,
            "display": null,
            "left": null
          }
        },
        "17c03f39a668424ea60c8d6acccc9a3c": {
          "model_module": "@jupyter-widgets/controls",
          "model_name": "ProgressStyleModel",
          "model_module_version": "1.5.0",
          "state": {
            "_view_name": "StyleView",
            "_model_name": "ProgressStyleModel",
            "description_width": "",
            "_view_module": "@jupyter-widgets/base",
            "_model_module_version": "1.5.0",
            "_view_count": null,
            "_view_module_version": "1.2.0",
            "bar_color": null,
            "_model_module": "@jupyter-widgets/controls"
          }
        },
        "63b76c5b415f4f7bbedfdc630f873d43": {
          "model_module": "@jupyter-widgets/base",
          "model_name": "LayoutModel",
          "model_module_version": "1.2.0",
          "state": {
            "_view_name": "LayoutView",
            "grid_template_rows": null,
            "right": null,
            "justify_content": null,
            "_view_module": "@jupyter-widgets/base",
            "overflow": null,
            "_model_module_version": "1.2.0",
            "_view_count": null,
            "flex_flow": null,
            "width": null,
            "min_width": null,
            "border": null,
            "align_items": null,
            "bottom": null,
            "_model_module": "@jupyter-widgets/base",
            "top": null,
            "grid_column": null,
            "overflow_y": null,
            "overflow_x": null,
            "grid_auto_flow": null,
            "grid_area": null,
            "grid_template_columns": null,
            "flex": null,
            "_model_name": "LayoutModel",
            "justify_items": null,
            "grid_row": null,
            "max_height": null,
            "align_content": null,
            "visibility": null,
            "align_self": null,
            "height": null,
            "min_height": null,
            "padding": null,
            "grid_auto_rows": null,
            "grid_gap": null,
            "max_width": null,
            "order": null,
            "_view_module_version": "1.2.0",
            "grid_template_areas": null,
            "object_position": null,
            "object_fit": null,
            "grid_auto_columns": null,
            "margin": null,
            "display": null,
            "left": null
          }
        },
        "b61319f730da46cdb9a640a6ef44f228": {
          "model_module": "@jupyter-widgets/controls",
          "model_name": "DescriptionStyleModel",
          "model_module_version": "1.5.0",
          "state": {
            "_view_name": "StyleView",
            "_model_name": "DescriptionStyleModel",
            "description_width": "",
            "_view_module": "@jupyter-widgets/base",
            "_model_module_version": "1.5.0",
            "_view_count": null,
            "_view_module_version": "1.2.0",
            "_model_module": "@jupyter-widgets/controls"
          }
        },
        "4a79a93aaaea4016877a74cba15f7047": {
          "model_module": "@jupyter-widgets/base",
          "model_name": "LayoutModel",
          "model_module_version": "1.2.0",
          "state": {
            "_view_name": "LayoutView",
            "grid_template_rows": null,
            "right": null,
            "justify_content": null,
            "_view_module": "@jupyter-widgets/base",
            "overflow": null,
            "_model_module_version": "1.2.0",
            "_view_count": null,
            "flex_flow": null,
            "width": null,
            "min_width": null,
            "border": null,
            "align_items": null,
            "bottom": null,
            "_model_module": "@jupyter-widgets/base",
            "top": null,
            "grid_column": null,
            "overflow_y": null,
            "overflow_x": null,
            "grid_auto_flow": null,
            "grid_area": null,
            "grid_template_columns": null,
            "flex": null,
            "_model_name": "LayoutModel",
            "justify_items": null,
            "grid_row": null,
            "max_height": null,
            "align_content": null,
            "visibility": null,
            "align_self": null,
            "height": null,
            "min_height": null,
            "padding": null,
            "grid_auto_rows": null,
            "grid_gap": null,
            "max_width": null,
            "order": null,
            "_view_module_version": "1.2.0",
            "grid_template_areas": null,
            "object_position": null,
            "object_fit": null,
            "grid_auto_columns": null,
            "margin": null,
            "display": null,
            "left": null
          }
        }
      }
    }
  },
  "cells": [
    {
      "cell_type": "markdown",
      "metadata": {
        "id": "view-in-github",
        "colab_type": "text"
      },
      "source": [
        "<a href=\"https://colab.research.google.com/github/misha345a/E-commerce_Reviews_Classifier/blob/main/ASBA.ipynb\" target=\"_parent\"><img src=\"https://colab.research.google.com/assets/colab-badge.svg\" alt=\"Open In Colab\"/></a>"
      ]
    },
    {
      "cell_type": "markdown",
      "source": [
        "## Goal\n",
        "Use Aspect-Based Sentiment Analysis (ASBA) to dive deeper into the negative reviews and analyze consumer sentiment specifically related to the color of dresses.\n",
        "\n",
        "- Identify observations that are relevant to the aspect - \"color\".\n",
        "- Segment the reviews into smaller pieces. \n",
        "- Determine the polarity relating to the aspect.\n",
        "- Automatically extract the descriptors associated with the aspect.\n",
        "\n",
        "\n"
      ],
      "metadata": {
        "id": "7yYiU4ETC7-m"
      }
    },
    {
      "cell_type": "code",
      "execution_count": 1,
      "metadata": {
        "id": "k3WTlGjyFo81"
      },
      "outputs": [],
      "source": [
        "%%capture\n",
        "\n",
        "!pip install monkeylearn\n",
        "!pip install opendatasets\n",
        "!pip install contractions"
      ]
    },
    {
      "cell_type": "code",
      "source": [
        "# library imports\n",
        "import pandas as pd\n",
        "import opendatasets\n",
        "import contractions\n",
        "from monkeylearn import MonkeyLearn\n",
        "from textblob import TextBlob\n",
        "from tqdm.notebook import tqdm_notebook\n",
        "from collections import Counter\n",
        "import matplotlib.pyplot as plt\n",
        "import seaborn as sns\n",
        "import numpy as np\n",
        "import warnings\n",
        "import time\n",
        "import spacy\n",
        "import re\n",
        "\n",
        "# load a trained English pipeline \n",
        "nlp = spacy.load(\"en_core_web_sm\")\n",
        "\n",
        "# initiate tqdm for pandas.apply() functions\n",
        "tqdm_notebook.pandas()"
      ],
      "metadata": {
        "id": "hA46nfP9Fyaa"
      },
      "execution_count": 2,
      "outputs": []
    },
    {
      "cell_type": "code",
      "source": [
        "# suppress all warnings\n",
        "warnings.simplefilter('ignore')\n",
        "\n",
        "# expand notebook display options for dataframes\n",
        "pd.set_option('display.max_colwidth', 200)\n",
        "pd.options.display.max_columns = 999\n",
        "pd.options.display.max_rows = 300"
      ],
      "metadata": {
        "id": "iZwN-HshlF_d"
      },
      "execution_count": 3,
      "outputs": []
    },
    {
      "cell_type": "markdown",
      "source": [
        "## Load Kaggle Dataset"
      ],
      "metadata": {
        "id": "DO5viv-qcnrq"
      }
    },
    {
      "cell_type": "code",
      "source": [
        "# option to directly retrieve the dataset from Kaggle\n",
        "kaggle_url = 'https://www.kaggle.com/nicapotato/womens-ecommerce-clothing-reviews'\n",
        "opendatasets.download(kaggle_url)"
      ],
      "metadata": {
        "colab": {
          "base_uri": "https://localhost:8080/"
        },
        "id": "8UMQciMSXEfe",
        "outputId": "e53480cb-af4b-469c-9887-ed66c8664fd0"
      },
      "execution_count": 4,
      "outputs": [
        {
          "output_type": "stream",
          "name": "stdout",
          "text": [
            "Please provide your Kaggle credentials to download this dataset. Learn more: http://bit.ly/kaggle-creds\n",
            "Your Kaggle username: misha345\n",
            "Your Kaggle Key: ··········\n",
            "Downloading womens-ecommerce-clothing-reviews.zip to ./womens-ecommerce-clothing-reviews\n"
          ]
        },
        {
          "output_type": "stream",
          "name": "stderr",
          "text": [
            "100%|██████████| 2.79M/2.79M [00:00<00:00, 85.4MB/s]"
          ]
        },
        {
          "output_type": "stream",
          "name": "stdout",
          "text": [
            "\n"
          ]
        },
        {
          "output_type": "stream",
          "name": "stderr",
          "text": [
            "\n"
          ]
        }
      ]
    },
    {
      "cell_type": "code",
      "source": [
        "# load the dataset \n",
        "raw_data = pd.read_csv('/content/womens-ecommerce-clothing-reviews/Womens Clothing E-Commerce Reviews.csv')"
      ],
      "metadata": {
        "id": "L4-86KTpXEiP"
      },
      "execution_count": 5,
      "outputs": []
    },
    {
      "cell_type": "markdown",
      "source": [
        "## Data Preprocessing"
      ],
      "metadata": {
        "id": "8rROBId1csDZ"
      }
    },
    {
      "cell_type": "code",
      "source": [
        "# drop any rows with missing Review Text\n",
        "raw_data.dropna(axis=0, \n",
        "                how='any', \n",
        "                subset=['Review Text'], \n",
        "                inplace=True)"
      ],
      "metadata": {
        "id": "F08WnyMxXl_k"
      },
      "execution_count": 6,
      "outputs": []
    },
    {
      "cell_type": "code",
      "source": [
        "dataset = raw_data[['Review Text', 'Recommended IND', 'Department Name']]\n",
        "\n",
        "# filter the dataset for our aspect\n",
        "dataset = dataset[(dataset['Review Text'].str.contains(r'colors?\\b')) &\n",
        "                  (dataset['Recommended IND']==0) & \n",
        "                  (dataset['Department Name']=='Dresses') \n",
        "                  ]"
      ],
      "metadata": {
        "id": "yMGTLQZoXElb"
      },
      "execution_count": 7,
      "outputs": []
    },
    {
      "cell_type": "code",
      "source": [
        "print(\"Num. of observations:\", len(dataset))"
      ],
      "metadata": {
        "colab": {
          "base_uri": "https://localhost:8080/"
        },
        "id": "gLk8z_e9XEom",
        "outputId": "53dfc8a9-495f-4515-f767-9379f3461987"
      },
      "execution_count": 8,
      "outputs": [
        {
          "output_type": "stream",
          "name": "stdout",
          "text": [
            "Num. of observations: 270\n"
          ]
        }
      ]
    },
    {
      "cell_type": "code",
      "source": [
        "# make all characters uniformly lowercase\n",
        "dataset['Review Text'] = dataset['Review Text'].apply(lambda x: x.lower())"
      ],
      "metadata": {
        "id": "JbZdgmZWYzQR"
      },
      "execution_count": 9,
      "outputs": []
    },
    {
      "cell_type": "code",
      "source": [
        "def clean_slang(text): \n",
        "    \"\"\"\n",
        "    Correct common slang and abbreviations\n",
        "    \"\"\"\n",
        "    text = re.sub(r\"\\babt?\\b\", \"about\", text)\n",
        "    text = re.sub(r\"\\brll?y\\b\", \"really\", text)\n",
        "    text = re.sub(r\"\\bso{2,}\\b\", \"so\", text)\n",
        "    text = re.sub(r\"\\bmed\\b\", \"medium\", text)\n",
        "    text = re.sub(r\"\\bxx?s\\b\", \"extra small\", text)\n",
        "    text = re.sub(r\"\\bxx?l\\b\", \"extra large\", text)\n",
        "    text = re.sub(r\"\\bfab\\b\", \"fabulous\", text)\n",
        "    text = re.sub(r\"\\bblk\\b\", \"black\", text)\n",
        "    text = re.sub(r\"\\bpromo\\b\", \"promotion\", text)\n",
        "    text = re.sub(r\"\\btts\\b\", \"true to size\", text)\n",
        "    text = re.sub(r\"\\blbs?\\b\", \"pounds\", text)\n",
        "    text = re.sub(r\"\\brn\\b\", \"right now\", text)\n",
        "    text = re.sub(r\"\\bwanna\\b\", \"want to\", text)\n",
        "    text = re.sub(r\"\\besp\\b\", \"especially\", text)\n",
        "    text = re.sub(r\"\\bgonn[ao]\\b\", \"going to\", text)\n",
        "    text = re.sub(r\"\\btho\\b\", \"though\", text)\n",
        "    text = re.sub(r\"altho \", \"although \", text)\n",
        "    text = re.sub(r\"prolly\", \"probably\", text)\n",
        "    text = re.sub(r\"asap\", \"as soon as possible\", text)\n",
        "    text = re.sub(r\"\\bbc|b/c\\b\", \"because\", text)\n",
        "    text = re.sub(r\"\\bavail\\b\", \"available\", text)\n",
        "    text = re.sub(r\"\\bdiff\\b\", \"different\", text)\n",
        "    text = re.sub(r\"\\bnxt|enxt\\b\", \"next\", text)\n",
        "    text = re.sub(r\" w/ \", \" with \", text)\n",
        "    text = re.sub(r\"\\bdidn \", \"didn't \", text)\n",
        "    text = re.sub(r\" dnt \", \" don't \", text)\n",
        "    text = re.sub(r\"\\bsnd\\b\", \"send\", text)\n",
        "    text = re.sub(r\"b4\\b\", \"before\", text)\n",
        "    text = re.sub(r\"\\batm\\b\", \"at the moment\", text)\n",
        "    text = re.sub(r\"\\besp\\b\", \"especially\", text)\n",
        "    text = re.sub(r\"\\bavg\\b\", \"average\", text)\n",
        "    text = re.sub(r\"\\.{2,}\", \". \", text)\n",
        "    text = re.sub(r\"[\\\\-]\", ' ', text)\n",
        "    text = re.sub(r\"\\s{2,}\", \" \", text).strip() \n",
        "\n",
        "    return text"
      ],
      "metadata": {
        "id": "l7ODhn0aYzS3"
      },
      "execution_count": 10,
      "outputs": []
    },
    {
      "cell_type": "code",
      "source": [
        "dataset['Review Text'] = dataset['Review Text'].apply(clean_slang)"
      ],
      "metadata": {
        "id": "bGf7B76lYzVq"
      },
      "execution_count": 11,
      "outputs": []
    },
    {
      "cell_type": "code",
      "source": [
        "def cont_expand(text):\n",
        "    \"\"\"\n",
        "    Expand contractions (i.e don't->do not, can't->cannot)\n",
        "    \"\"\"\n",
        "    expanded_text = contractions.fix(text, slang=False)\n",
        "    return expanded_text\n",
        "\n",
        "# expand contractions\n",
        "dataset['Review Text'] = dataset['Review Text'].apply(cont_expand)"
      ],
      "metadata": {
        "id": "xZt-Q7YuY3Yt"
      },
      "execution_count": 12,
      "outputs": []
    },
    {
      "cell_type": "markdown",
      "source": [
        "## Extract Opinion Units"
      ],
      "metadata": {
        "id": "tJTxcjhzDKm9"
      }
    },
    {
      "cell_type": "code",
      "source": [
        "# (optional) load the already segmented opinions from the Datasets folder\n",
        "dataset = pd.read_excel(\"/content/Saved_ASBA_Opinions.xlsx\")\n",
        "dataset.head(1)"
      ],
      "metadata": {
        "colab": {
          "base_uri": "https://localhost:8080/",
          "height": 159
        },
        "id": "K2wYT-f920ES",
        "outputId": "1aeb74f4-1cf7-4d6b-f28e-982105e3ea73"
      },
      "execution_count": 13,
      "outputs": [
        {
          "output_type": "execute_result",
          "data": {
            "text/html": [
              "\n",
              "  <div id=\"df-377e634f-9803-41c4-93df-b5284901a187\">\n",
              "    <div class=\"colab-df-container\">\n",
              "      <div>\n",
              "<style scoped>\n",
              "    .dataframe tbody tr th:only-of-type {\n",
              "        vertical-align: middle;\n",
              "    }\n",
              "\n",
              "    .dataframe tbody tr th {\n",
              "        vertical-align: top;\n",
              "    }\n",
              "\n",
              "    .dataframe thead th {\n",
              "        text-align: right;\n",
              "    }\n",
              "</style>\n",
              "<table border=\"1\" class=\"dataframe\">\n",
              "  <thead>\n",
              "    <tr style=\"text-align: right;\">\n",
              "      <th></th>\n",
              "      <th>Review Text</th>\n",
              "      <th>Recommended IND</th>\n",
              "      <th>Department Name</th>\n",
              "      <th>Opinion</th>\n",
              "    </tr>\n",
              "  </thead>\n",
              "  <tbody>\n",
              "    <tr>\n",
              "      <th>0</th>\n",
              "      <td>i love tracy reese dresses, but this one is not for the very petite. i am just under 5 feet tall and usually wear a 0p in this brand. this dress was very pretty out of the package but its a lot of...</td>\n",
              "      <td>0</td>\n",
              "      <td>Dresses</td>\n",
              "      <td>i love the color and the idea of the style</td>\n",
              "    </tr>\n",
              "  </tbody>\n",
              "</table>\n",
              "</div>\n",
              "      <button class=\"colab-df-convert\" onclick=\"convertToInteractive('df-377e634f-9803-41c4-93df-b5284901a187')\"\n",
              "              title=\"Convert this dataframe to an interactive table.\"\n",
              "              style=\"display:none;\">\n",
              "        \n",
              "  <svg xmlns=\"http://www.w3.org/2000/svg\" height=\"24px\"viewBox=\"0 0 24 24\"\n",
              "       width=\"24px\">\n",
              "    <path d=\"M0 0h24v24H0V0z\" fill=\"none\"/>\n",
              "    <path d=\"M18.56 5.44l.94 2.06.94-2.06 2.06-.94-2.06-.94-.94-2.06-.94 2.06-2.06.94zm-11 1L8.5 8.5l.94-2.06 2.06-.94-2.06-.94L8.5 2.5l-.94 2.06-2.06.94zm10 10l.94 2.06.94-2.06 2.06-.94-2.06-.94-.94-2.06-.94 2.06-2.06.94z\"/><path d=\"M17.41 7.96l-1.37-1.37c-.4-.4-.92-.59-1.43-.59-.52 0-1.04.2-1.43.59L10.3 9.45l-7.72 7.72c-.78.78-.78 2.05 0 2.83L4 21.41c.39.39.9.59 1.41.59.51 0 1.02-.2 1.41-.59l7.78-7.78 2.81-2.81c.8-.78.8-2.07 0-2.86zM5.41 20L4 18.59l7.72-7.72 1.47 1.35L5.41 20z\"/>\n",
              "  </svg>\n",
              "      </button>\n",
              "      \n",
              "  <style>\n",
              "    .colab-df-container {\n",
              "      display:flex;\n",
              "      flex-wrap:wrap;\n",
              "      gap: 12px;\n",
              "    }\n",
              "\n",
              "    .colab-df-convert {\n",
              "      background-color: #E8F0FE;\n",
              "      border: none;\n",
              "      border-radius: 50%;\n",
              "      cursor: pointer;\n",
              "      display: none;\n",
              "      fill: #1967D2;\n",
              "      height: 32px;\n",
              "      padding: 0 0 0 0;\n",
              "      width: 32px;\n",
              "    }\n",
              "\n",
              "    .colab-df-convert:hover {\n",
              "      background-color: #E2EBFA;\n",
              "      box-shadow: 0px 1px 2px rgba(60, 64, 67, 0.3), 0px 1px 3px 1px rgba(60, 64, 67, 0.15);\n",
              "      fill: #174EA6;\n",
              "    }\n",
              "\n",
              "    [theme=dark] .colab-df-convert {\n",
              "      background-color: #3B4455;\n",
              "      fill: #D2E3FC;\n",
              "    }\n",
              "\n",
              "    [theme=dark] .colab-df-convert:hover {\n",
              "      background-color: #434B5C;\n",
              "      box-shadow: 0px 1px 3px 1px rgba(0, 0, 0, 0.15);\n",
              "      filter: drop-shadow(0px 1px 2px rgba(0, 0, 0, 0.3));\n",
              "      fill: #FFFFFF;\n",
              "    }\n",
              "  </style>\n",
              "\n",
              "      <script>\n",
              "        const buttonEl =\n",
              "          document.querySelector('#df-377e634f-9803-41c4-93df-b5284901a187 button.colab-df-convert');\n",
              "        buttonEl.style.display =\n",
              "          google.colab.kernel.accessAllowed ? 'block' : 'none';\n",
              "\n",
              "        async function convertToInteractive(key) {\n",
              "          const element = document.querySelector('#df-377e634f-9803-41c4-93df-b5284901a187');\n",
              "          const dataTable =\n",
              "            await google.colab.kernel.invokeFunction('convertToInteractive',\n",
              "                                                     [key], {});\n",
              "          if (!dataTable) return;\n",
              "\n",
              "          const docLinkHtml = 'Like what you see? Visit the ' +\n",
              "            '<a target=\"_blank\" href=https://colab.research.google.com/notebooks/data_table.ipynb>data table notebook</a>'\n",
              "            + ' to learn more about interactive tables.';\n",
              "          element.innerHTML = '';\n",
              "          dataTable['output_type'] = 'display_data';\n",
              "          await google.colab.output.renderOutput(dataTable, element);\n",
              "          const docLink = document.createElement('div');\n",
              "          docLink.innerHTML = docLinkHtml;\n",
              "          element.appendChild(docLink);\n",
              "        }\n",
              "      </script>\n",
              "    </div>\n",
              "  </div>\n",
              "  "
            ],
            "text/plain": [
              "                                                                                                                                                                                               Review Text  \\\n",
              "0  i love tracy reese dresses, but this one is not for the very petite. i am just under 5 feet tall and usually wear a 0p in this brand. this dress was very pretty out of the package but its a lot of...   \n",
              "\n",
              "   Recommended IND Department Name  \\\n",
              "0                0         Dresses   \n",
              "\n",
              "                                       Opinion  \n",
              "0  i love the color and the idea of the style   "
            ]
          },
          "metadata": {},
          "execution_count": 13
        }
      ]
    },
    {
      "cell_type": "code",
      "source": [
        "# instantiate the client using your API key\n",
        "ml = MonkeyLearn('<YOUR API TOKEN HERE>')\n",
        "\n",
        "# opinion unit extractor\n",
        "model_id = 'ex_N4aFcea3'"
      ],
      "metadata": {
        "id": "83lC8u3mXmCG"
      },
      "execution_count": 13,
      "outputs": []
    },
    {
      "cell_type": "code",
      "source": [
        "def opinion_parser(text):\n",
        "  \"\"\"\n",
        "  Extract the individual opinion unit (or phrase) within the text\n",
        "  that contains the aspect term. \n",
        "  \"\"\"\n",
        "  result = ml.extractors.extract(model_id, [text])\n",
        "  time.sleep(1)\n",
        "  \n",
        "  extractions = result.body[0]['extractions']\n",
        "\n",
        "  opinion_units = []\n",
        "  num__opinion_units = len(extractions)\n",
        "\n",
        "  for i in range(num__opinion_units):\n",
        "    opinion_unit = \"\".join([extractions[i]['extracted_text']])\n",
        "    \n",
        "    if re.search(\"colors?\", opinion_unit):\n",
        "      return opinion_unit\n",
        "  \n",
        "  return \"\""
      ],
      "metadata": {
        "id": "qYcIydNsXmEP"
      },
      "execution_count": 14,
      "outputs": []
    },
    {
      "cell_type": "code",
      "source": [
        "dataset[\"Opinion\"] = dataset[\"Review Text\"].progress_apply(opinion_parser)"
      ],
      "metadata": {
        "id": "iiCLB1iHXEr3"
      },
      "execution_count": null,
      "outputs": []
    },
    {
      "cell_type": "markdown",
      "source": [
        "## Predict Polarity"
      ],
      "metadata": {
        "id": "e5_qFpfhDRzk"
      }
    },
    {
      "cell_type": "code",
      "source": [
        "def polarity(text):\n",
        "  \"\"\"\n",
        "  Predict the polarity of the text using TextBlob.\n",
        "  Results range from negative to positive on a scale of [-1, +1].\n",
        "  \"\"\"\n",
        "  testimonial = TextBlob(text)\n",
        "  return round(testimonial.sentiment.polarity, 2)"
      ],
      "metadata": {
        "id": "v2mz9bTOi6fk"
      },
      "execution_count": 14,
      "outputs": []
    },
    {
      "cell_type": "code",
      "source": [
        "dataset[\"Polarity\"] = dataset[\"Opinion\"].progress_apply(polarity)"
      ],
      "metadata": {
        "id": "CXgT2c8_izDn",
        "colab": {
          "base_uri": "https://localhost:8080/",
          "height": 49,
          "referenced_widgets": [
            "39369500620542a1bb010291838eac39",
            "d035a064b37b4c7fa1c11ee12f209c47",
            "888a7cf76a8441a2a33510db38f1bbe0",
            "596531ba44c7471aa6440c28ee2cea5e",
            "9a325b72bb1947e18853118b87d5fb6f",
            "ab91ae61a3a745488945e5666b95a836",
            "f55d8c6df7e34f8fa6e1b9b75f4ba5b7",
            "96a6263536e94e3382c60d0a6e692776",
            "b90635c9355e483e84b7a637ea22aade",
            "648726357b934d01b9451fdb26ef155f",
            "bbc48a93c679462b9280ad091da27006"
          ]
        },
        "outputId": "470b5769-08ae-436a-dfac-c8727161e0f5"
      },
      "execution_count": 15,
      "outputs": [
        {
          "output_type": "display_data",
          "data": {
            "application/vnd.jupyter.widget-view+json": {
              "model_id": "39369500620542a1bb010291838eac39",
              "version_minor": 0,
              "version_major": 2
            },
            "text/plain": [
              "  0%|          | 0/270 [00:00<?, ?it/s]"
            ]
          },
          "metadata": {}
        }
      ]
    },
    {
      "cell_type": "code",
      "source": [
        "dataset.head(1)"
      ],
      "metadata": {
        "colab": {
          "base_uri": "https://localhost:8080/",
          "height": 159
        },
        "id": "JaziNFJOizFt",
        "outputId": "71313ed6-d47d-427a-dac9-51704555aaa6"
      },
      "execution_count": 16,
      "outputs": [
        {
          "output_type": "execute_result",
          "data": {
            "text/html": [
              "\n",
              "  <div id=\"df-56822207-34d0-4355-a7c4-9f6fc74d2668\">\n",
              "    <div class=\"colab-df-container\">\n",
              "      <div>\n",
              "<style scoped>\n",
              "    .dataframe tbody tr th:only-of-type {\n",
              "        vertical-align: middle;\n",
              "    }\n",
              "\n",
              "    .dataframe tbody tr th {\n",
              "        vertical-align: top;\n",
              "    }\n",
              "\n",
              "    .dataframe thead th {\n",
              "        text-align: right;\n",
              "    }\n",
              "</style>\n",
              "<table border=\"1\" class=\"dataframe\">\n",
              "  <thead>\n",
              "    <tr style=\"text-align: right;\">\n",
              "      <th></th>\n",
              "      <th>Review Text</th>\n",
              "      <th>Recommended IND</th>\n",
              "      <th>Department Name</th>\n",
              "      <th>Opinion</th>\n",
              "      <th>Polarity</th>\n",
              "    </tr>\n",
              "  </thead>\n",
              "  <tbody>\n",
              "    <tr>\n",
              "      <th>0</th>\n",
              "      <td>i love tracy reese dresses, but this one is not for the very petite. i am just under 5 feet tall and usually wear a 0p in this brand. this dress was very pretty out of the package but its a lot of...</td>\n",
              "      <td>0</td>\n",
              "      <td>Dresses</td>\n",
              "      <td>i love the color and the idea of the style</td>\n",
              "      <td>0.5</td>\n",
              "    </tr>\n",
              "  </tbody>\n",
              "</table>\n",
              "</div>\n",
              "      <button class=\"colab-df-convert\" onclick=\"convertToInteractive('df-56822207-34d0-4355-a7c4-9f6fc74d2668')\"\n",
              "              title=\"Convert this dataframe to an interactive table.\"\n",
              "              style=\"display:none;\">\n",
              "        \n",
              "  <svg xmlns=\"http://www.w3.org/2000/svg\" height=\"24px\"viewBox=\"0 0 24 24\"\n",
              "       width=\"24px\">\n",
              "    <path d=\"M0 0h24v24H0V0z\" fill=\"none\"/>\n",
              "    <path d=\"M18.56 5.44l.94 2.06.94-2.06 2.06-.94-2.06-.94-.94-2.06-.94 2.06-2.06.94zm-11 1L8.5 8.5l.94-2.06 2.06-.94-2.06-.94L8.5 2.5l-.94 2.06-2.06.94zm10 10l.94 2.06.94-2.06 2.06-.94-2.06-.94-.94-2.06-.94 2.06-2.06.94z\"/><path d=\"M17.41 7.96l-1.37-1.37c-.4-.4-.92-.59-1.43-.59-.52 0-1.04.2-1.43.59L10.3 9.45l-7.72 7.72c-.78.78-.78 2.05 0 2.83L4 21.41c.39.39.9.59 1.41.59.51 0 1.02-.2 1.41-.59l7.78-7.78 2.81-2.81c.8-.78.8-2.07 0-2.86zM5.41 20L4 18.59l7.72-7.72 1.47 1.35L5.41 20z\"/>\n",
              "  </svg>\n",
              "      </button>\n",
              "      \n",
              "  <style>\n",
              "    .colab-df-container {\n",
              "      display:flex;\n",
              "      flex-wrap:wrap;\n",
              "      gap: 12px;\n",
              "    }\n",
              "\n",
              "    .colab-df-convert {\n",
              "      background-color: #E8F0FE;\n",
              "      border: none;\n",
              "      border-radius: 50%;\n",
              "      cursor: pointer;\n",
              "      display: none;\n",
              "      fill: #1967D2;\n",
              "      height: 32px;\n",
              "      padding: 0 0 0 0;\n",
              "      width: 32px;\n",
              "    }\n",
              "\n",
              "    .colab-df-convert:hover {\n",
              "      background-color: #E2EBFA;\n",
              "      box-shadow: 0px 1px 2px rgba(60, 64, 67, 0.3), 0px 1px 3px 1px rgba(60, 64, 67, 0.15);\n",
              "      fill: #174EA6;\n",
              "    }\n",
              "\n",
              "    [theme=dark] .colab-df-convert {\n",
              "      background-color: #3B4455;\n",
              "      fill: #D2E3FC;\n",
              "    }\n",
              "\n",
              "    [theme=dark] .colab-df-convert:hover {\n",
              "      background-color: #434B5C;\n",
              "      box-shadow: 0px 1px 3px 1px rgba(0, 0, 0, 0.15);\n",
              "      filter: drop-shadow(0px 1px 2px rgba(0, 0, 0, 0.3));\n",
              "      fill: #FFFFFF;\n",
              "    }\n",
              "  </style>\n",
              "\n",
              "      <script>\n",
              "        const buttonEl =\n",
              "          document.querySelector('#df-56822207-34d0-4355-a7c4-9f6fc74d2668 button.colab-df-convert');\n",
              "        buttonEl.style.display =\n",
              "          google.colab.kernel.accessAllowed ? 'block' : 'none';\n",
              "\n",
              "        async function convertToInteractive(key) {\n",
              "          const element = document.querySelector('#df-56822207-34d0-4355-a7c4-9f6fc74d2668');\n",
              "          const dataTable =\n",
              "            await google.colab.kernel.invokeFunction('convertToInteractive',\n",
              "                                                     [key], {});\n",
              "          if (!dataTable) return;\n",
              "\n",
              "          const docLinkHtml = 'Like what you see? Visit the ' +\n",
              "            '<a target=\"_blank\" href=https://colab.research.google.com/notebooks/data_table.ipynb>data table notebook</a>'\n",
              "            + ' to learn more about interactive tables.';\n",
              "          element.innerHTML = '';\n",
              "          dataTable['output_type'] = 'display_data';\n",
              "          await google.colab.output.renderOutput(dataTable, element);\n",
              "          const docLink = document.createElement('div');\n",
              "          docLink.innerHTML = docLinkHtml;\n",
              "          element.appendChild(docLink);\n",
              "        }\n",
              "      </script>\n",
              "    </div>\n",
              "  </div>\n",
              "  "
            ],
            "text/plain": [
              "                                                                                                                                                                                               Review Text  \\\n",
              "0  i love tracy reese dresses, but this one is not for the very petite. i am just under 5 feet tall and usually wear a 0p in this brand. this dress was very pretty out of the package but its a lot of...   \n",
              "\n",
              "   Recommended IND Department Name  \\\n",
              "0                0         Dresses   \n",
              "\n",
              "                                       Opinion  Polarity  \n",
              "0  i love the color and the idea of the style        0.5  "
            ]
          },
          "metadata": {},
          "execution_count": 16
        }
      ]
    },
    {
      "cell_type": "markdown",
      "source": [
        "## Identify Descriptors"
      ],
      "metadata": {
        "id": "rbHRdXJaDVGW"
      }
    },
    {
      "cell_type": "code",
      "source": [
        "def dependency_matching(text):\n",
        "  \"\"\"\n",
        "  Identify and extract word(s) that are describing\n",
        "  the aspect term.\n",
        "  \"\"\"\n",
        "  doc = nlp(text)\n",
        "  \n",
        "  tags = ['JJ', 'JJR', 'JJS']\n",
        "  dependents = ['acomp', 'advmod']\n",
        "\n",
        "  extraction = []\n",
        "  for i, token in enumerate(doc):\n",
        "      \n",
        "      # location of color in sequence\n",
        "      if re.search(\"color\", token.text):\n",
        "          color_pos = i\n",
        "      \n",
        "      if ((token.dep_ in dependents) or (token.tag_ in tags)) and re.search(\"color\", token.head.text):\n",
        "          extraction.append(token.text)\n",
        "\n",
        "      if token.dep_ == 'acomp':\n",
        "          extraction.append(token.text)\n",
        "          \n",
        "          children = [child for child in token.children]\n",
        "          if len(children) > 0 and str(children[0]).isalpha():\n",
        "              extraction.insert(0, str(children[0]))\n",
        "          \n",
        "          for t in range(4):\n",
        "              try:\n",
        "                  if doc[i-t].dep_ == 'neg':\n",
        "                      negation = doc[i-t].text\n",
        "                      extraction.insert(0, negation)\n",
        "              except:\n",
        "                  continue\n",
        "      \n",
        "      # look for adjectives near the aspect if no matches were found yet\n",
        "      if len(extraction) == 0 and i == len(doc)-1:\n",
        "          for t in range(-6,6):\n",
        "              try:\n",
        "                  if doc[color_pos+t].tag_ in tags:\n",
        "                      if doc[color_pos+t].text in extraction:\n",
        "                          continue\n",
        "                      extraction.append(doc[color_pos+t].text)\n",
        "                      \n",
        "                      children = [child for child in doc[color_pos+t].children]\n",
        "                      if len(children) > 0 and str(children[0]).isalpha():\n",
        "                          extraction.insert(0, str(children[0]))\n",
        "              except:\n",
        "                  continue\n",
        "\n",
        "  return \" \".join(extraction)"
      ],
      "metadata": {
        "id": "EjLW0juqjm_-"
      },
      "execution_count": 17,
      "outputs": []
    },
    {
      "cell_type": "code",
      "source": [
        "dataset['Descriptors'] = dataset['Opinion'].progress_apply(dependency_matching)"
      ],
      "metadata": {
        "id": "_fL7Ubr7jnCt",
        "colab": {
          "base_uri": "https://localhost:8080/",
          "height": 49,
          "referenced_widgets": [
            "111ab55f2dcd4e88ab0c3bb303da65f6",
            "46e9dd53d2bc40048431ee4bbd0aa41c",
            "e32502127a0c4748b0df306d96e059ad",
            "d04b41f4962448fa9d938af9dc31aab7",
            "847c6f3d771c41d69953b297e3c1851d",
            "14461f2d927e41f9a6c064d871978e36",
            "c16f53eeee204b2eaa3874b95b494b68",
            "17c03f39a668424ea60c8d6acccc9a3c",
            "63b76c5b415f4f7bbedfdc630f873d43",
            "b61319f730da46cdb9a640a6ef44f228",
            "4a79a93aaaea4016877a74cba15f7047"
          ]
        },
        "outputId": "c9c5522e-86fe-4e9f-9c8d-5dd264f46cdc"
      },
      "execution_count": 18,
      "outputs": [
        {
          "output_type": "display_data",
          "data": {
            "application/vnd.jupyter.widget-view+json": {
              "model_id": "111ab55f2dcd4e88ab0c3bb303da65f6",
              "version_minor": 0,
              "version_major": 2
            },
            "text/plain": [
              "  0%|          | 0/270 [00:00<?, ?it/s]"
            ]
          },
          "metadata": {}
        }
      ]
    },
    {
      "cell_type": "code",
      "source": [
        "dataset.sample(3)"
      ],
      "metadata": {
        "colab": {
          "base_uri": "https://localhost:8080/",
          "height": 309
        },
        "id": "Px3b2IQ2izKN",
        "outputId": "c3f56bf7-102d-4ba1-d0e8-9993acb1b026"
      },
      "execution_count": 33,
      "outputs": [
        {
          "output_type": "execute_result",
          "data": {
            "text/html": [
              "\n",
              "  <div id=\"df-2cb43599-2bf2-4e88-94ad-5c18d063ff18\">\n",
              "    <div class=\"colab-df-container\">\n",
              "      <div>\n",
              "<style scoped>\n",
              "    .dataframe tbody tr th:only-of-type {\n",
              "        vertical-align: middle;\n",
              "    }\n",
              "\n",
              "    .dataframe tbody tr th {\n",
              "        vertical-align: top;\n",
              "    }\n",
              "\n",
              "    .dataframe thead th {\n",
              "        text-align: right;\n",
              "    }\n",
              "</style>\n",
              "<table border=\"1\" class=\"dataframe\">\n",
              "  <thead>\n",
              "    <tr style=\"text-align: right;\">\n",
              "      <th></th>\n",
              "      <th>Review Text</th>\n",
              "      <th>Recommended IND</th>\n",
              "      <th>Department Name</th>\n",
              "      <th>Opinion</th>\n",
              "      <th>Polarity</th>\n",
              "      <th>Descriptors</th>\n",
              "    </tr>\n",
              "  </thead>\n",
              "  <tbody>\n",
              "    <tr>\n",
              "      <th>196</th>\n",
              "      <td>in my opinion, for this amount of money, the dress needs to be something really different. and this one is not. it has several structural issues and it seems to have a split personality (summery m...</td>\n",
              "      <td>0</td>\n",
              "      <td>Dresses</td>\n",
              "      <td>it has several structural issues and it seems to have a split personality (summery material, dark color, flirty and fun.</td>\n",
              "      <td>0.05</td>\n",
              "      <td>dark</td>\n",
              "    </tr>\n",
              "    <tr>\n",
              "      <th>91</th>\n",
              "      <td>like other reviewers, i saw this dress on the cover of the catalog and knew i had to have it! well, i am very disappointed. the colors are not as rich as the outdoor photo, although they are brigh...</td>\n",
              "      <td>0</td>\n",
              "      <td>Dresses</td>\n",
              "      <td>the colors are not as rich as the outdoor photo,</td>\n",
              "      <td>0.38</td>\n",
              "      <td>not as rich</td>\n",
              "    </tr>\n",
              "    <tr>\n",
              "      <th>63</th>\n",
              "      <td>i order the blue and orange endora wing dress in an extra small and it was still very large. i know that this is a flow dress but there was so much excess material that i looked like i was swallow...</td>\n",
              "      <td>0</td>\n",
              "      <td>Dresses</td>\n",
              "      <td>the colors are more muted than in the pictures, a faded blue and orange that i did not really like.</td>\n",
              "      <td>0.13</td>\n",
              "      <td>more muted blue</td>\n",
              "    </tr>\n",
              "  </tbody>\n",
              "</table>\n",
              "</div>\n",
              "      <button class=\"colab-df-convert\" onclick=\"convertToInteractive('df-2cb43599-2bf2-4e88-94ad-5c18d063ff18')\"\n",
              "              title=\"Convert this dataframe to an interactive table.\"\n",
              "              style=\"display:none;\">\n",
              "        \n",
              "  <svg xmlns=\"http://www.w3.org/2000/svg\" height=\"24px\"viewBox=\"0 0 24 24\"\n",
              "       width=\"24px\">\n",
              "    <path d=\"M0 0h24v24H0V0z\" fill=\"none\"/>\n",
              "    <path d=\"M18.56 5.44l.94 2.06.94-2.06 2.06-.94-2.06-.94-.94-2.06-.94 2.06-2.06.94zm-11 1L8.5 8.5l.94-2.06 2.06-.94-2.06-.94L8.5 2.5l-.94 2.06-2.06.94zm10 10l.94 2.06.94-2.06 2.06-.94-2.06-.94-.94-2.06-.94 2.06-2.06.94z\"/><path d=\"M17.41 7.96l-1.37-1.37c-.4-.4-.92-.59-1.43-.59-.52 0-1.04.2-1.43.59L10.3 9.45l-7.72 7.72c-.78.78-.78 2.05 0 2.83L4 21.41c.39.39.9.59 1.41.59.51 0 1.02-.2 1.41-.59l7.78-7.78 2.81-2.81c.8-.78.8-2.07 0-2.86zM5.41 20L4 18.59l7.72-7.72 1.47 1.35L5.41 20z\"/>\n",
              "  </svg>\n",
              "      </button>\n",
              "      \n",
              "  <style>\n",
              "    .colab-df-container {\n",
              "      display:flex;\n",
              "      flex-wrap:wrap;\n",
              "      gap: 12px;\n",
              "    }\n",
              "\n",
              "    .colab-df-convert {\n",
              "      background-color: #E8F0FE;\n",
              "      border: none;\n",
              "      border-radius: 50%;\n",
              "      cursor: pointer;\n",
              "      display: none;\n",
              "      fill: #1967D2;\n",
              "      height: 32px;\n",
              "      padding: 0 0 0 0;\n",
              "      width: 32px;\n",
              "    }\n",
              "\n",
              "    .colab-df-convert:hover {\n",
              "      background-color: #E2EBFA;\n",
              "      box-shadow: 0px 1px 2px rgba(60, 64, 67, 0.3), 0px 1px 3px 1px rgba(60, 64, 67, 0.15);\n",
              "      fill: #174EA6;\n",
              "    }\n",
              "\n",
              "    [theme=dark] .colab-df-convert {\n",
              "      background-color: #3B4455;\n",
              "      fill: #D2E3FC;\n",
              "    }\n",
              "\n",
              "    [theme=dark] .colab-df-convert:hover {\n",
              "      background-color: #434B5C;\n",
              "      box-shadow: 0px 1px 3px 1px rgba(0, 0, 0, 0.15);\n",
              "      filter: drop-shadow(0px 1px 2px rgba(0, 0, 0, 0.3));\n",
              "      fill: #FFFFFF;\n",
              "    }\n",
              "  </style>\n",
              "\n",
              "      <script>\n",
              "        const buttonEl =\n",
              "          document.querySelector('#df-2cb43599-2bf2-4e88-94ad-5c18d063ff18 button.colab-df-convert');\n",
              "        buttonEl.style.display =\n",
              "          google.colab.kernel.accessAllowed ? 'block' : 'none';\n",
              "\n",
              "        async function convertToInteractive(key) {\n",
              "          const element = document.querySelector('#df-2cb43599-2bf2-4e88-94ad-5c18d063ff18');\n",
              "          const dataTable =\n",
              "            await google.colab.kernel.invokeFunction('convertToInteractive',\n",
              "                                                     [key], {});\n",
              "          if (!dataTable) return;\n",
              "\n",
              "          const docLinkHtml = 'Like what you see? Visit the ' +\n",
              "            '<a target=\"_blank\" href=https://colab.research.google.com/notebooks/data_table.ipynb>data table notebook</a>'\n",
              "            + ' to learn more about interactive tables.';\n",
              "          element.innerHTML = '';\n",
              "          dataTable['output_type'] = 'display_data';\n",
              "          await google.colab.output.renderOutput(dataTable, element);\n",
              "          const docLink = document.createElement('div');\n",
              "          docLink.innerHTML = docLinkHtml;\n",
              "          element.appendChild(docLink);\n",
              "        }\n",
              "      </script>\n",
              "    </div>\n",
              "  </div>\n",
              "  "
            ],
            "text/plain": [
              "                                                                                                                                                                                                 Review Text  \\\n",
              "196  in my opinion, for this amount of money, the dress needs to be something really different. and this one is not. it has several structural issues and it seems to have a split personality (summery m...   \n",
              "91   like other reviewers, i saw this dress on the cover of the catalog and knew i had to have it! well, i am very disappointed. the colors are not as rich as the outdoor photo, although they are brigh...   \n",
              "63   i order the blue and orange endora wing dress in an extra small and it was still very large. i know that this is a flow dress but there was so much excess material that i looked like i was swallow...   \n",
              "\n",
              "     Recommended IND Department Name  \\\n",
              "196                0         Dresses   \n",
              "91                 0         Dresses   \n",
              "63                 0         Dresses   \n",
              "\n",
              "                                                                                                                      Opinion  \\\n",
              "196  it has several structural issues and it seems to have a split personality (summery material, dark color, flirty and fun.   \n",
              "91                                                                          the colors are not as rich as the outdoor photo,    \n",
              "63                        the colors are more muted than in the pictures, a faded blue and orange that i did not really like.   \n",
              "\n",
              "     Polarity      Descriptors  \n",
              "196      0.05             dark  \n",
              "91       0.38      not as rich  \n",
              "63       0.13  more muted blue  "
            ]
          },
          "metadata": {},
          "execution_count": 33
        }
      ]
    },
    {
      "cell_type": "markdown",
      "source": [
        "## Polarity Analysis"
      ],
      "metadata": {
        "id": "eGD1WqkGfwmM"
      }
    },
    {
      "cell_type": "code",
      "source": [
        "ax = sns.histplot(dataset[\"Polarity\"],\n",
        "                  bins=np.arange(-1,1,0.2)\n",
        "                  ).set_title('Histogram of Polarities (Aspect = \"Color\")')\n",
        "plt.show()"
      ],
      "metadata": {
        "colab": {
          "base_uri": "https://localhost:8080/",
          "height": 295
        },
        "id": "nZgm_1OWfnM6",
        "outputId": "81195bfe-4c9b-4e12-ed08-fe65187e2cd9"
      },
      "execution_count": 34,
      "outputs": [
        {
          "output_type": "display_data",
          "data": {
            "image/png": "[encoded data removed]",
            "text/plain": [
              "<Figure size 432x288 with 1 Axes>"
            ]
          },
          "metadata": {
            "needs_background": "light"
          }
        }
      ]
    },
    {
      "cell_type": "code",
      "source": [
        "# save the chart figure\n",
        "fig = ax.get_figure()\n",
        "fig.savefig('Polarity_Distribution.png', \n",
        "            dpi=75, \n",
        "            bbox_inches=\"tight\")"
      ],
      "metadata": {
        "id": "TEwOWtRcjVQW"
      },
      "execution_count": 35,
      "outputs": []
    },
    {
      "cell_type": "markdown",
      "source": [
        "## Descriptor Analysis (n-gramming)"
      ],
      "metadata": {
        "id": "ApX1kajFOrxZ"
      }
    },
    {
      "cell_type": "code",
      "source": [
        "positives = dataset[dataset[\"Polarity\"] > 0] # polarity greater than 0\n",
        "negatives = dataset[dataset[\"Polarity\"] < 0] # polarity less than 0"
      ],
      "metadata": {
        "id": "RJWWGMonjVTJ"
      },
      "execution_count": 36,
      "outputs": []
    },
    {
      "cell_type": "code",
      "source": [
        "def ngrams(text, n):\n",
        "     return zip(*[text[i:] for i in range(n)])\n",
        "     \n",
        "def display_ngram_frequency(corpus, n, display):\n",
        "    \"\"\"\n",
        "    Generate a DataFrame of n-grams and their frequencies.\n",
        "    \"\"\"\n",
        "    ngram_counts = Counter(ngrams(corpus.split(), n))\n",
        "    most_commmon = ngram_counts.most_common(display)\n",
        "\n",
        "    ngram = []\n",
        "    count = []\n",
        "    for i in range(0,len(most_commmon)):\n",
        "        ngram.append(\" \".join(most_commmon[i][0]))\n",
        "        count.append(most_commmon[i][1])\n",
        "\n",
        "    if n > 3:\n",
        "        col = f\"{n}-gram\"\n",
        "    if n == 3:\n",
        "        col = 'Tri-gram'\n",
        "    if n == 2:\n",
        "        col = 'Bi-gram'\n",
        "\n",
        "    return pd.DataFrame(zip(ngram, count), columns=[col, \"Count\"])"
      ],
      "metadata": {
        "id": "6_QHxPtNjmuz"
      },
      "execution_count": 37,
      "outputs": []
    },
    {
      "cell_type": "code",
      "source": [
        "# list all negative descriptors in a single string\n",
        "descriptors_negative_opinions = negatives[\"Descriptors\"].tolist()\n",
        "descriptors_negative_opinions = \" \".join(descriptors_negative_opinions)\n",
        "\n",
        "# positives\n",
        "descriptors_positive_opinions = positives[\"Descriptors\"].tolist()\n",
        "descriptors_positive_opinions = \" \".join(descriptors_positive_opinions)"
      ],
      "metadata": {
        "id": "ow6D2-OsjmxW"
      },
      "execution_count": 38,
      "outputs": []
    },
    {
      "cell_type": "code",
      "source": [
        "display_ngram_frequency(descriptors_negative_opinions, n=3, display=10)"
      ],
      "metadata": {
        "colab": {
          "base_uri": "https://localhost:8080/",
          "height": 363
        },
        "id": "pSLNigm5liMt",
        "outputId": "ba87c363-b438-4c46-9bc7-16ea4cc68148"
      },
      "execution_count": 39,
      "outputs": [
        {
          "output_type": "execute_result",
          "data": {
            "text/html": [
              "\n",
              "  <div id=\"df-5a53cab7-f607-4b30-820b-36fc524d5d3b\">\n",
              "    <div class=\"colab-df-container\">\n",
              "      <div>\n",
              "<style scoped>\n",
              "    .dataframe tbody tr th:only-of-type {\n",
              "        vertical-align: middle;\n",
              "    }\n",
              "\n",
              "    .dataframe tbody tr th {\n",
              "        vertical-align: top;\n",
              "    }\n",
              "\n",
              "    .dataframe thead th {\n",
              "        text-align: right;\n",
              "    }\n",
              "</style>\n",
              "<table border=\"1\" class=\"dataframe\">\n",
              "  <thead>\n",
              "    <tr style=\"text-align: right;\">\n",
              "      <th></th>\n",
              "      <th>Tri-gram</th>\n",
              "      <th>Count</th>\n",
              "    </tr>\n",
              "  </thead>\n",
              "  <tbody>\n",
              "    <tr>\n",
              "      <th>0</th>\n",
              "      <td>than little disappointed</td>\n",
              "      <td>1</td>\n",
              "    </tr>\n",
              "    <tr>\n",
              "      <th>1</th>\n",
              "      <td>little disappointed darker</td>\n",
              "      <td>1</td>\n",
              "    </tr>\n",
              "    <tr>\n",
              "      <th>2</th>\n",
              "      <td>disappointed darker green</td>\n",
              "      <td>1</td>\n",
              "    </tr>\n",
              "    <tr>\n",
              "      <th>3</th>\n",
              "      <td>darker green other</td>\n",
              "      <td>1</td>\n",
              "    </tr>\n",
              "    <tr>\n",
              "      <th>4</th>\n",
              "      <td>green other main</td>\n",
              "      <td>1</td>\n",
              "    </tr>\n",
              "    <tr>\n",
              "      <th>5</th>\n",
              "      <td>other main awful</td>\n",
              "      <td>1</td>\n",
              "    </tr>\n",
              "    <tr>\n",
              "      <th>6</th>\n",
              "      <td>main awful not</td>\n",
              "      <td>1</td>\n",
              "    </tr>\n",
              "    <tr>\n",
              "      <th>7</th>\n",
              "      <td>awful not true</td>\n",
              "      <td>1</td>\n",
              "    </tr>\n",
              "    <tr>\n",
              "      <th>8</th>\n",
              "      <td>not true other</td>\n",
              "      <td>1</td>\n",
              "    </tr>\n",
              "    <tr>\n",
              "      <th>9</th>\n",
              "      <td>true other pretty</td>\n",
              "      <td>1</td>\n",
              "    </tr>\n",
              "  </tbody>\n",
              "</table>\n",
              "</div>\n",
              "      <button class=\"colab-df-convert\" onclick=\"convertToInteractive('df-5a53cab7-f607-4b30-820b-36fc524d5d3b')\"\n",
              "              title=\"Convert this dataframe to an interactive table.\"\n",
              "              style=\"display:none;\">\n",
              "        \n",
              "  <svg xmlns=\"http://www.w3.org/2000/svg\" height=\"24px\"viewBox=\"0 0 24 24\"\n",
              "       width=\"24px\">\n",
              "    <path d=\"M0 0h24v24H0V0z\" fill=\"none\"/>\n",
              "    <path d=\"M18.56 5.44l.94 2.06.94-2.06 2.06-.94-2.06-.94-.94-2.06-.94 2.06-2.06.94zm-11 1L8.5 8.5l.94-2.06 2.06-.94-2.06-.94L8.5 2.5l-.94 2.06-2.06.94zm10 10l.94 2.06.94-2.06 2.06-.94-2.06-.94-.94-2.06-.94 2.06-2.06.94z\"/><path d=\"M17.41 7.96l-1.37-1.37c-.4-.4-.92-.59-1.43-.59-.52 0-1.04.2-1.43.59L10.3 9.45l-7.72 7.72c-.78.78-.78 2.05 0 2.83L4 21.41c.39.39.9.59 1.41.59.51 0 1.02-.2 1.41-.59l7.78-7.78 2.81-2.81c.8-.78.8-2.07 0-2.86zM5.41 20L4 18.59l7.72-7.72 1.47 1.35L5.41 20z\"/>\n",
              "  </svg>\n",
              "      </button>\n",
              "      \n",
              "  <style>\n",
              "    .colab-df-container {\n",
              "      display:flex;\n",
              "      flex-wrap:wrap;\n",
              "      gap: 12px;\n",
              "    }\n",
              "\n",
              "    .colab-df-convert {\n",
              "      background-color: #E8F0FE;\n",
              "      border: none;\n",
              "      border-radius: 50%;\n",
              "      cursor: pointer;\n",
              "      display: none;\n",
              "      fill: #1967D2;\n",
              "      height: 32px;\n",
              "      padding: 0 0 0 0;\n",
              "      width: 32px;\n",
              "    }\n",
              "\n",
              "    .colab-df-convert:hover {\n",
              "      background-color: #E2EBFA;\n",
              "      box-shadow: 0px 1px 2px rgba(60, 64, 67, 0.3), 0px 1px 3px 1px rgba(60, 64, 67, 0.15);\n",
              "      fill: #174EA6;\n",
              "    }\n",
              "\n",
              "    [theme=dark] .colab-df-convert {\n",
              "      background-color: #3B4455;\n",
              "      fill: #D2E3FC;\n",
              "    }\n",
              "\n",
              "    [theme=dark] .colab-df-convert:hover {\n",
              "      background-color: #434B5C;\n",
              "      box-shadow: 0px 1px 3px 1px rgba(0, 0, 0, 0.15);\n",
              "      filter: drop-shadow(0px 1px 2px rgba(0, 0, 0, 0.3));\n",
              "      fill: #FFFFFF;\n",
              "    }\n",
              "  </style>\n",
              "\n",
              "      <script>\n",
              "        const buttonEl =\n",
              "          document.querySelector('#df-5a53cab7-f607-4b30-820b-36fc524d5d3b button.colab-df-convert');\n",
              "        buttonEl.style.display =\n",
              "          google.colab.kernel.accessAllowed ? 'block' : 'none';\n",
              "\n",
              "        async function convertToInteractive(key) {\n",
              "          const element = document.querySelector('#df-5a53cab7-f607-4b30-820b-36fc524d5d3b');\n",
              "          const dataTable =\n",
              "            await google.colab.kernel.invokeFunction('convertToInteractive',\n",
              "                                                     [key], {});\n",
              "          if (!dataTable) return;\n",
              "\n",
              "          const docLinkHtml = 'Like what you see? Visit the ' +\n",
              "            '<a target=\"_blank\" href=https://colab.research.google.com/notebooks/data_table.ipynb>data table notebook</a>'\n",
              "            + ' to learn more about interactive tables.';\n",
              "          element.innerHTML = '';\n",
              "          dataTable['output_type'] = 'display_data';\n",
              "          await google.colab.output.renderOutput(dataTable, element);\n",
              "          const docLink = document.createElement('div');\n",
              "          docLink.innerHTML = docLinkHtml;\n",
              "          element.appendChild(docLink);\n",
              "        }\n",
              "      </script>\n",
              "    </div>\n",
              "  </div>\n",
              "  "
            ],
            "text/plain": [
              "                     Tri-gram  Count\n",
              "0    than little disappointed      1\n",
              "1  little disappointed darker      1\n",
              "2   disappointed darker green      1\n",
              "3          darker green other      1\n",
              "4            green other main      1\n",
              "5            other main awful      1\n",
              "6              main awful not      1\n",
              "7              awful not true      1\n",
              "8              not true other      1\n",
              "9           true other pretty      1"
            ]
          },
          "metadata": {},
          "execution_count": 39
        }
      ]
    },
    {
      "cell_type": "markdown",
      "source": [
        "## WordClouds"
      ],
      "metadata": {
        "id": "-eJjmphLj3jp"
      }
    },
    {
      "cell_type": "code",
      "source": [
        "from wordcloud import WordCloud\n",
        "\n",
        "def generate_wordcloud(text):\n",
        "    \"\"\"\n",
        "    Generate word cloud images.\n",
        "    \"\"\"\n",
        "    wordcloud = WordCloud(collocations=False, \n",
        "                          background_color=\"black\",\n",
        "                          max_words=50).generate(text)\n",
        "    \n",
        "    # set the figure size\n",
        "    plt.figure(figsize=[8,10])\n",
        "\n",
        "    # plot the wordcloud\n",
        "    plt.imshow(wordcloud, interpolation=\"bilinear\")\n",
        "\n",
        "    # remove plot axes\n",
        "    plt.axis(\"off\")"
      ],
      "metadata": {
        "id": "9jrluZSoEBKL"
      },
      "execution_count": 40,
      "outputs": []
    },
    {
      "cell_type": "code",
      "source": [
        "# WordCloud: descriptors extracted from negative opinions\n",
        "generate_wordcloud(descriptors_negative_opinions)"
      ],
      "metadata": {
        "id": "tBH4jhfgEBMV",
        "colab": {
          "base_uri": "https://localhost:8080/",
          "height": 254
        },
        "outputId": "a1dff737-9602-41e3-b354-a87b42b03923"
      },
      "execution_count": 43,
      "outputs": [
        {
          "output_type": "display_data",
          "data": {
            "image/png": "[encoded data removed]",
            "text/plain": [
              "<Figure size 576x720 with 1 Axes>"
            ]
          },
          "metadata": {
            "needs_background": "light"
          }
        }
      ]
    },
    {
      "cell_type": "code",
      "source": [
        "# WordCloud: descriptors extracted from positive opinions\n",
        "generate_wordcloud(descriptors_positive_opinions)"
      ],
      "metadata": {
        "colab": {
          "base_uri": "https://localhost:8080/",
          "height": 254
        },
        "id": "T67DB-7pPlZo",
        "outputId": "2e6366f3-e76c-44b4-a584-dd19c730e9e7"
      },
      "execution_count": 44,
      "outputs": [
        {
          "output_type": "display_data",
          "data": {
            "image/png": "[encoded data removed]",
            "text/plain": [
              "<Figure size 576x720 with 1 Axes>"
            ]
          },
          "metadata": {
            "needs_background": "light"
          }
        }
      ]
    },
    {
      "cell_type": "markdown",
      "source": [
        "## Examples"
      ],
      "metadata": {
        "id": "knKzrBUMEHpU"
      }
    },
    {
      "cell_type": "code",
      "source": [
        "opinions = [\"the color was beautiful\",\n",
        "            \"gorgeous colors\",\n",
        "            \"i ordered the red, it is a beautiful, vibrant, festive color\",\n",
        "            \"the colors were very bland and the flowers just hang\",\n",
        "            \"the color was not vibrant like photos show\", \n",
        "            ]"
      ],
      "metadata": {
        "id": "MxCLeY6BkUTy"
      },
      "execution_count": 45,
      "outputs": []
    },
    {
      "cell_type": "code",
      "source": [
        "df_examples = pd.DataFrame(opinions, columns=[\"Opinion\"])\n",
        "df_examples[\"Polarity\"] = df_examples[\"Opinion\"].apply(polarity) # polarity\n",
        "df_examples['Descriptors'] = df_examples['Opinion'].apply(dependency_matching) # extract adjectives/adverbs"
      ],
      "metadata": {
        "id": "RJal17TZ_fW9"
      },
      "execution_count": 46,
      "outputs": []
    },
    {
      "cell_type": "code",
      "source": [
        "df_examples"
      ],
      "metadata": {
        "colab": {
          "base_uri": "https://localhost:8080/",
          "height": 206
        },
        "id": "WlSr4N9E_uwp",
        "outputId": "d78874bb-debb-4e6e-e95c-5246c14dd2c0"
      },
      "execution_count": 47,
      "outputs": [
        {
          "output_type": "execute_result",
          "data": {
            "text/html": [
              "\n",
              "  <div id=\"df-1eafe6e0-6d01-4700-a7c5-750b2936d3fb\">\n",
              "    <div class=\"colab-df-container\">\n",
              "      <div>\n",
              "<style scoped>\n",
              "    .dataframe tbody tr th:only-of-type {\n",
              "        vertical-align: middle;\n",
              "    }\n",
              "\n",
              "    .dataframe tbody tr th {\n",
              "        vertical-align: top;\n",
              "    }\n",
              "\n",
              "    .dataframe thead th {\n",
              "        text-align: right;\n",
              "    }\n",
              "</style>\n",
              "<table border=\"1\" class=\"dataframe\">\n",
              "  <thead>\n",
              "    <tr style=\"text-align: right;\">\n",
              "      <th></th>\n",
              "      <th>Opinion</th>\n",
              "      <th>Polarity</th>\n",
              "      <th>Descriptors</th>\n",
              "    </tr>\n",
              "  </thead>\n",
              "  <tbody>\n",
              "    <tr>\n",
              "      <th>0</th>\n",
              "      <td>the color was beautiful</td>\n",
              "      <td>0.85</td>\n",
              "      <td>beautiful</td>\n",
              "    </tr>\n",
              "    <tr>\n",
              "      <th>1</th>\n",
              "      <td>gorgeous colors</td>\n",
              "      <td>0.70</td>\n",
              "      <td>gorgeous</td>\n",
              "    </tr>\n",
              "    <tr>\n",
              "      <th>2</th>\n",
              "      <td>i ordered the red, it is a beautiful, vibrant, festive color</td>\n",
              "      <td>0.34</td>\n",
              "      <td>beautiful vibrant festive</td>\n",
              "    </tr>\n",
              "    <tr>\n",
              "      <th>3</th>\n",
              "      <td>the colors were very bland and the flowers just hang</td>\n",
              "      <td>-0.22</td>\n",
              "      <td>very bland</td>\n",
              "    </tr>\n",
              "    <tr>\n",
              "      <th>4</th>\n",
              "      <td>the color was not vibrant like photos show</td>\n",
              "      <td>-0.08</td>\n",
              "      <td>not vibrant</td>\n",
              "    </tr>\n",
              "  </tbody>\n",
              "</table>\n",
              "</div>\n",
              "      <button class=\"colab-df-convert\" onclick=\"convertToInteractive('df-1eafe6e0-6d01-4700-a7c5-750b2936d3fb')\"\n",
              "              title=\"Convert this dataframe to an interactive table.\"\n",
              "              style=\"display:none;\">\n",
              "        \n",
              "  <svg xmlns=\"http://www.w3.org/2000/svg\" height=\"24px\"viewBox=\"0 0 24 24\"\n",
              "       width=\"24px\">\n",
              "    <path d=\"M0 0h24v24H0V0z\" fill=\"none\"/>\n",
              "    <path d=\"M18.56 5.44l.94 2.06.94-2.06 2.06-.94-2.06-.94-.94-2.06-.94 2.06-2.06.94zm-11 1L8.5 8.5l.94-2.06 2.06-.94-2.06-.94L8.5 2.5l-.94 2.06-2.06.94zm10 10l.94 2.06.94-2.06 2.06-.94-2.06-.94-.94-2.06-.94 2.06-2.06.94z\"/><path d=\"M17.41 7.96l-1.37-1.37c-.4-.4-.92-.59-1.43-.59-.52 0-1.04.2-1.43.59L10.3 9.45l-7.72 7.72c-.78.78-.78 2.05 0 2.83L4 21.41c.39.39.9.59 1.41.59.51 0 1.02-.2 1.41-.59l7.78-7.78 2.81-2.81c.8-.78.8-2.07 0-2.86zM5.41 20L4 18.59l7.72-7.72 1.47 1.35L5.41 20z\"/>\n",
              "  </svg>\n",
              "      </button>\n",
              "      \n",
              "  <style>\n",
              "    .colab-df-container {\n",
              "      display:flex;\n",
              "      flex-wrap:wrap;\n",
              "      gap: 12px;\n",
              "    }\n",
              "\n",
              "    .colab-df-convert {\n",
              "      background-color: #E8F0FE;\n",
              "      border: none;\n",
              "      border-radius: 50%;\n",
              "      cursor: pointer;\n",
              "      display: none;\n",
              "      fill: #1967D2;\n",
              "      height: 32px;\n",
              "      padding: 0 0 0 0;\n",
              "      width: 32px;\n",
              "    }\n",
              "\n",
              "    .colab-df-convert:hover {\n",
              "      background-color: #E2EBFA;\n",
              "      box-shadow: 0px 1px 2px rgba(60, 64, 67, 0.3), 0px 1px 3px 1px rgba(60, 64, 67, 0.15);\n",
              "      fill: #174EA6;\n",
              "    }\n",
              "\n",
              "    [theme=dark] .colab-df-convert {\n",
              "      background-color: #3B4455;\n",
              "      fill: #D2E3FC;\n",
              "    }\n",
              "\n",
              "    [theme=dark] .colab-df-convert:hover {\n",
              "      background-color: #434B5C;\n",
              "      box-shadow: 0px 1px 3px 1px rgba(0, 0, 0, 0.15);\n",
              "      filter: drop-shadow(0px 1px 2px rgba(0, 0, 0, 0.3));\n",
              "      fill: #FFFFFF;\n",
              "    }\n",
              "  </style>\n",
              "\n",
              "      <script>\n",
              "        const buttonEl =\n",
              "          document.querySelector('#df-1eafe6e0-6d01-4700-a7c5-750b2936d3fb button.colab-df-convert');\n",
              "        buttonEl.style.display =\n",
              "          google.colab.kernel.accessAllowed ? 'block' : 'none';\n",
              "\n",
              "        async function convertToInteractive(key) {\n",
              "          const element = document.querySelector('#df-1eafe6e0-6d01-4700-a7c5-750b2936d3fb');\n",
              "          const dataTable =\n",
              "            await google.colab.kernel.invokeFunction('convertToInteractive',\n",
              "                                                     [key], {});\n",
              "          if (!dataTable) return;\n",
              "\n",
              "          const docLinkHtml = 'Like what you see? Visit the ' +\n",
              "            '<a target=\"_blank\" href=https://colab.research.google.com/notebooks/data_table.ipynb>data table notebook</a>'\n",
              "            + ' to learn more about interactive tables.';\n",
              "          element.innerHTML = '';\n",
              "          dataTable['output_type'] = 'display_data';\n",
              "          await google.colab.output.renderOutput(dataTable, element);\n",
              "          const docLink = document.createElement('div');\n",
              "          docLink.innerHTML = docLinkHtml;\n",
              "          element.appendChild(docLink);\n",
              "        }\n",
              "      </script>\n",
              "    </div>\n",
              "  </div>\n",
              "  "
            ],
            "text/plain": [
              "                                                        Opinion  Polarity  \\\n",
              "0                                       the color was beautiful      0.85   \n",
              "1                                               gorgeous colors      0.70   \n",
              "2  i ordered the red, it is a beautiful, vibrant, festive color      0.34   \n",
              "3          the colors were very bland and the flowers just hang     -0.22   \n",
              "4                    the color was not vibrant like photos show     -0.08   \n",
              "\n",
              "                 Descriptors  \n",
              "0                  beautiful  \n",
              "1                   gorgeous  \n",
              "2  beautiful vibrant festive  \n",
              "3                 very bland  \n",
              "4                not vibrant  "
            ]
          },
          "metadata": {},
          "execution_count": 47
        }
      ]
    },
    {
      "cell_type": "code",
      "source": [
        ""
      ],
      "metadata": {
        "id": "8FGJMgKji5Qd"
      },
      "execution_count": null,
      "outputs": []
    }
  ]
}