{
 "cells": [
  {
   "cell_type": "markdown",
   "metadata": {},
   "source": [
    "## Goal:\n",
    "Build a Random Forest model to predict Recommended vs Not-Recommended classification using text from customer reviews."
   ]
  },
  {
   "cell_type": "code",
   "execution_count": 1,
   "metadata": {},
   "outputs": [
    {
     "name": "stderr",
     "output_type": "stream",
     "text": [
      "[nltk_data] Downloading package stopwords to\n",
      "[nltk_data]     C:\\Users\\admin\\AppData\\Roaming\\nltk_data...\n",
      "[nltk_data]   Package stopwords is already up-to-date!\n",
      "[nltk_data] Downloading package punkt to\n",
      "[nltk_data]     C:\\Users\\admin\\AppData\\Roaming\\nltk_data...\n",
      "[nltk_data]   Package punkt is already up-to-date!\n",
      "[nltk_data] Downloading package wordnet to\n",
      "[nltk_data]     C:\\Users\\admin\\AppData\\Roaming\\nltk_data...\n",
      "[nltk_data]   Package wordnet is already up-to-date!\n"
     ]
    }
   ],
   "source": [
    "# library imports\n",
    "import pandas as pd\n",
    "import opendatasets\n",
    "import contractions\n",
    "from autocorrect import Speller\n",
    "from tqdm.notebook import tqdm_notebook\n",
    "import nltk\n",
    "from nltk.corpus import stopwords\n",
    "from nltk.stem.porter import PorterStemmer\n",
    "nltk.download(info_or_id='stopwords')\n",
    "nltk.download('punkt')\n",
    "nltk.download('wordnet')\n",
    "import spacy\n",
    "import re\n",
    "\n",
    "# initiate tqdm for pandas.apply() functions\n",
    "tqdm_notebook.pandas()"
   ]
  },
  {
   "cell_type": "code",
   "execution_count": 2,
   "metadata": {},
   "outputs": [],
   "source": [
    "#expand notebook display options for dataframes\n",
    "pd.set_option('display.max_colwidth', 200)\n",
    "pd.options.display.max_columns = 999\n",
    "pd.options.display.max_rows = 300"
   ]
  },
  {
   "cell_type": "markdown",
   "metadata": {},
   "source": [
    "## Dataset Import "
   ]
  },
  {
   "cell_type": "code",
   "execution_count": 3,
   "metadata": {},
   "outputs": [],
   "source": [
    "# option to use opendatasets to directly retrieve the dataset from Kaggle\n",
    "kaggle_url = 'https://www.kaggle.com/nicapotato/womens-ecommerce-clothing-reviews'\n",
    "opendatasets.download(kaggle_url)"
   ]
  },
  {
   "cell_type": "code",
   "execution_count": 4,
   "metadata": {},
   "outputs": [],
   "source": [
    "dataset = pd.read_csv('dataset\\\\Womens Clothing E-Commerce Reviews.csv')"
   ]
  },
  {
   "cell_type": "code",
   "execution_count": 5,
   "metadata": {},
   "outputs": [
    {
     "data": {
      "text/html": [
       "<div>\n",
       "<style scoped>\n",
       "    .dataframe tbody tr th:only-of-type {\n",
       "        vertical-align: middle;\n",
       "    }\n",
       "\n",
       "    .dataframe tbody tr th {\n",
       "        vertical-align: top;\n",
       "    }\n",
       "\n",
       "    .dataframe thead th {\n",
       "        text-align: right;\n",
       "    }\n",
       "</style>\n",
       "<table border=\"1\" class=\"dataframe\">\n",
       "  <thead>\n",
       "    <tr style=\"text-align: right;\">\n",
       "      <th></th>\n",
       "      <th>Unnamed: 0</th>\n",
       "      <th>Clothing ID</th>\n",
       "      <th>Age</th>\n",
       "      <th>Title</th>\n",
       "      <th>Review Text</th>\n",
       "      <th>Rating</th>\n",
       "      <th>Recommended IND</th>\n",
       "      <th>Positive Feedback Count</th>\n",
       "      <th>Division Name</th>\n",
       "      <th>Department Name</th>\n",
       "      <th>Class Name</th>\n",
       "    </tr>\n",
       "  </thead>\n",
       "  <tbody>\n",
       "    <tr>\n",
       "      <th>0</th>\n",
       "      <td>0</td>\n",
       "      <td>767</td>\n",
       "      <td>33</td>\n",
       "      <td>NaN</td>\n",
       "      <td>Absolutely wonderful - silky and sexy and comfortable</td>\n",
       "      <td>4</td>\n",
       "      <td>1</td>\n",
       "      <td>0</td>\n",
       "      <td>Initmates</td>\n",
       "      <td>Intimate</td>\n",
       "      <td>Intimates</td>\n",
       "    </tr>\n",
       "    <tr>\n",
       "      <th>1</th>\n",
       "      <td>1</td>\n",
       "      <td>1080</td>\n",
       "      <td>34</td>\n",
       "      <td>NaN</td>\n",
       "      <td>Love this dress!  it's sooo pretty.  i happened to find it in a store, and i'm glad i did bc i never would have ordered it online bc it's petite.  i bought a petite and am 5'8\".  i love the length...</td>\n",
       "      <td>5</td>\n",
       "      <td>1</td>\n",
       "      <td>4</td>\n",
       "      <td>General</td>\n",
       "      <td>Dresses</td>\n",
       "      <td>Dresses</td>\n",
       "    </tr>\n",
       "    <tr>\n",
       "      <th>2</th>\n",
       "      <td>2</td>\n",
       "      <td>1077</td>\n",
       "      <td>60</td>\n",
       "      <td>Some major design flaws</td>\n",
       "      <td>I had such high hopes for this dress and really wanted it to work for me. i initially ordered the petite small (my usual size) but i found this to be outrageously small. so small in fact that i co...</td>\n",
       "      <td>3</td>\n",
       "      <td>0</td>\n",
       "      <td>0</td>\n",
       "      <td>General</td>\n",
       "      <td>Dresses</td>\n",
       "      <td>Dresses</td>\n",
       "    </tr>\n",
       "    <tr>\n",
       "      <th>3</th>\n",
       "      <td>3</td>\n",
       "      <td>1049</td>\n",
       "      <td>50</td>\n",
       "      <td>My favorite buy!</td>\n",
       "      <td>I love, love, love this jumpsuit. it's fun, flirty, and fabulous! every time i wear it, i get nothing but great compliments!</td>\n",
       "      <td>5</td>\n",
       "      <td>1</td>\n",
       "      <td>0</td>\n",
       "      <td>General Petite</td>\n",
       "      <td>Bottoms</td>\n",
       "      <td>Pants</td>\n",
       "    </tr>\n",
       "    <tr>\n",
       "      <th>4</th>\n",
       "      <td>4</td>\n",
       "      <td>847</td>\n",
       "      <td>47</td>\n",
       "      <td>Flattering shirt</td>\n",
       "      <td>This shirt is very flattering to all due to the adjustable front tie. it is the perfect length to wear with leggings and it is sleeveless so it pairs well with any cardigan. love this shirt!!!</td>\n",
       "      <td>5</td>\n",
       "      <td>1</td>\n",
       "      <td>6</td>\n",
       "      <td>General</td>\n",
       "      <td>Tops</td>\n",
       "      <td>Blouses</td>\n",
       "    </tr>\n",
       "  </tbody>\n",
       "</table>\n",
       "</div>"
      ],
      "text/plain": [
       "   Unnamed: 0  Clothing ID  Age                    Title  \\\n",
       "0           0          767   33                      NaN   \n",
       "1           1         1080   34                      NaN   \n",
       "2           2         1077   60  Some major design flaws   \n",
       "3           3         1049   50         My favorite buy!   \n",
       "4           4          847   47         Flattering shirt   \n",
       "\n",
       "                                                                                                                                                                                               Review Text  \\\n",
       "0                                                                                                                                                    Absolutely wonderful - silky and sexy and comfortable   \n",
       "1  Love this dress!  it's sooo pretty.  i happened to find it in a store, and i'm glad i did bc i never would have ordered it online bc it's petite.  i bought a petite and am 5'8\".  i love the length...   \n",
       "2  I had such high hopes for this dress and really wanted it to work for me. i initially ordered the petite small (my usual size) but i found this to be outrageously small. so small in fact that i co...   \n",
       "3                                                                             I love, love, love this jumpsuit. it's fun, flirty, and fabulous! every time i wear it, i get nothing but great compliments!   \n",
       "4         This shirt is very flattering to all due to the adjustable front tie. it is the perfect length to wear with leggings and it is sleeveless so it pairs well with any cardigan. love this shirt!!!   \n",
       "\n",
       "   Rating  Recommended IND  Positive Feedback Count   Division Name  \\\n",
       "0       4                1                        0       Initmates   \n",
       "1       5                1                        4         General   \n",
       "2       3                0                        0         General   \n",
       "3       5                1                        0  General Petite   \n",
       "4       5                1                        6         General   \n",
       "\n",
       "  Department Name Class Name  \n",
       "0        Intimate  Intimates  \n",
       "1         Dresses    Dresses  \n",
       "2         Dresses    Dresses  \n",
       "3         Bottoms      Pants  \n",
       "4            Tops    Blouses  "
      ]
     },
     "execution_count": 5,
     "metadata": {},
     "output_type": "execute_result"
    }
   ],
   "source": [
    "dataset.head()"
   ]
  },
  {
   "cell_type": "markdown",
   "metadata": {},
   "source": [
    "## Text Pre-processing"
   ]
  },
  {
   "cell_type": "code",
   "execution_count": 6,
   "metadata": {},
   "outputs": [],
   "source": [
    "# drop any rows with missing Review Text\n",
    "dataset.dropna(axis=0, how='any', subset=['Review Text'], inplace=True)"
   ]
  },
  {
   "cell_type": "code",
   "execution_count": 7,
   "metadata": {},
   "outputs": [],
   "source": [
    "# make all characters uniformly lowercase in order to ignoring case\n",
    "dataset['Review Text'] = dataset['Review Text'].apply(lambda x: x.lower())"
   ]
  },
  {
   "cell_type": "code",
   "execution_count": 8,
   "metadata": {},
   "outputs": [],
   "source": [
    "def cont_expand(text):\n",
    "    \"\"\"\n",
    "    Expand contractions (i.e don't->do not, can't->cannot)\n",
    "    \"\"\"\n",
    "    expanded_text = contractions.fix(text, slang=False)\n",
    "    return expanded_text\n",
    "\n",
    "# expand contractations\n",
    "dataset['Review Text'] = dataset['Review Text'].progress_apply(cont_expand)"
   ]
  },
  {
   "cell_type": "code",
   "execution_count": 9,
   "metadata": {},
   "outputs": [],
   "source": [
    "def clean_slang_terms(text): \n",
    "    \"\"\"\n",
    "    Correct common slang and abbreviations\n",
    "    \"\"\"\n",
    "    text = re.sub(r\"\\babt?\\b\", \"about\", text)\n",
    "    text = re.sub(r\"\\brll?y\\b\", \"really\", text)\n",
    "    text = re.sub(r\"\\brn\\b\", \"right now\", text)\n",
    "    text = re.sub(r\"\\bwanna\\b\", \"want to\", text)\n",
    "    text = re.sub(r\"\\besp\\b\", \"especially\", text)\n",
    "    text = re.sub(r\"\\bmed\\b\", \"medium\", text)\n",
    "    text = re.sub(r\"\\bgonn[ao]\\b\", \"going to\", text)\n",
    "    text = re.sub(r\"\\btho\\b\", \"though\", text)\n",
    "    text = re.sub(r\"altho \", \"although \", text)\n",
    "    text = re.sub(r\"prolly\", \"probably\", text)\n",
    "    text = re.sub(r\"asap\", \"as soon as possible\", text)\n",
    "    text = re.sub(r\"\\bbc|b/c\\b\", \"because\", text)\n",
    "    text = re.sub(r\"\\bavail\\b\", \"available\", text)\n",
    "    text = re.sub(r\"\\bdiff\\b\", \"different\", text)\n",
    "    text = re.sub(r\"\\bnxt|enxt\\b\", \"next\", text)\n",
    "    text = re.sub(r\" w/ \", \" with \", text)\n",
    "    text = re.sub(r\"\\bmsg\\b\", \"message\", text)\n",
    "    text = re.sub(r\"\\bdidn \", \"didn't \", text)\n",
    "    text = re.sub(r\" dnt \", \" don't \", text)\n",
    "    text = re.sub(r\"\\bsnd\\b\", \"send\", text)\n",
    "    text = re.sub(r\"b4\\b\", \"before\", text)\n",
    "    text = re.sub(r\"\\batm\\b\", \"at the moment\", text)\n",
    "    text = re.sub(r\"\\besp\\b\", \"especially\", text)\n",
    "    text = re.sub(r\"\\bavg\\b\", \"average\", text)\n",
    "    text = re.sub(r\" {2,}\", \" \", text).strip() \n",
    "\n",
    "    return text"
   ]
  },
  {
   "cell_type": "code",
   "execution_count": 10,
   "metadata": {},
   "outputs": [
    {
     "data": {
      "application/vnd.jupyter.widget-view+json": {
       "model_id": "15944598c9724e2eb192acd0aafbfa2e",
       "version_major": 2,
       "version_minor": 0
      },
      "text/plain": [
       "  0%|          | 0/22641 [00:00<?, ?it/s]"
      ]
     },
     "metadata": {},
     "output_type": "display_data"
    }
   ],
   "source": [
    "dataset['Review Text'] = dataset['Review Text'].progress_apply(clean_slang_terms)"
   ]
  },
  {
   "cell_type": "code",
   "execution_count": 11,
   "metadata": {},
   "outputs": [],
   "source": [
    "# autocorrect any misspelled words (takes about ~20 minutes)\n",
    "spell_check = Speller(lang='en')\n",
    "dataset['Review Text'] = dataset['Review Text'].progress_apply(lambda x: spell_check(str(x)))"
   ]
  },
  {
   "cell_type": "code",
   "execution_count": 12,
   "metadata": {},
   "outputs": [],
   "source": [
    "# remove everything other than letters and apostrophes, and replace the removed with a space \n",
    "# (^ characher indicates to complement the input)\n",
    "dataset['Review Text'] = dataset['Review Text'].apply(lambda x: re.sub(pattern=r'[^a-z\\']', repl=' ', string=x))\n",
    "\n",
    "# remove any extra whitespace within the text\n",
    "dataset['Review Text'] = dataset['Review Text'].apply(lambda x: re.sub(pattern=r'\\s{2,}', repl=' ', string=x))"
   ]
  },
  {
   "cell_type": "code",
   "execution_count": 13,
   "metadata": {},
   "outputs": [],
   "source": [
    "# manually edit the list of stopwords by removing certain important words\n",
    "to_remove = [\"not\", \"no\", \"but\", \"own\", \"more\", \"over\", \"under\", \"most\", \"again\"]\n",
    "new_stopwords  = set(stopwords.words('english')) - set(to_remove) "
   ]
  },
  {
   "cell_type": "code",
   "execution_count": 14,
   "metadata": {},
   "outputs": [],
   "source": [
    "def stemming(text):\n",
    "    \"\"\"\n",
    "    Strip suffixes from a word and return the stem.\n",
    "    It is inefficient to have the algorithm process multiple formats of a word.\n",
    "    Ex: loved, loving, or loves ===> love\n",
    "    \"\"\"\n",
    "    # creating an object of the PorterStemmer class\n",
    "    ps = PorterStemmer()\n",
    "\n",
    "    stemmed_review = [ps.stem(word) for word in text.split(' ') if word not in set(stopwords.words(\"english\"))]\n",
    "    return ' '.join(stemmed_review)"
   ]
  },
  {
   "cell_type": "code",
   "execution_count": 15,
   "metadata": {},
   "outputs": [
    {
     "data": {
      "application/vnd.jupyter.widget-view+json": {
       "model_id": "26527882cdd14310b1bd3a0a19eb6264",
       "version_major": 2,
       "version_minor": 0
      },
      "text/plain": [
       "  0%|          | 0/22641 [00:00<?, ?it/s]"
      ]
     },
     "metadata": {},
     "output_type": "display_data"
    }
   ],
   "source": [
    "# keeping root words with a stemming algorithm (takes about ~5 minutes)\n",
    "dataset['Review Text'] = dataset['Review Text'].progress_apply(stemming)"
   ]
  },
  {
   "cell_type": "code",
   "execution_count": 17,
   "metadata": {},
   "outputs": [],
   "source": [
    "# lemmatize reviews with spacy\n",
    "nlp_lem = spacy.load('en_core_web_sm')\n",
    "\n",
    "def lemmentization(text):\n",
    "    doc = nlp_lem(u\"{}\".format(text))\n",
    "    output = \" \". join([token.lemma_ for token in doc])\n",
    "    return output"
   ]
  },
  {
   "cell_type": "code",
   "execution_count": 18,
   "metadata": {},
   "outputs": [
    {
     "data": {
      "application/vnd.jupyter.widget-view+json": {
       "model_id": "949431ec3f1b478d90d28233f8dd86be",
       "version_major": 2,
       "version_minor": 0
      },
      "text/plain": [
       "  0%|          | 0/22641 [00:00<?, ?it/s]"
      ]
     },
     "metadata": {},
     "output_type": "display_data"
    }
   ],
   "source": [
    "# apply lemmentization (takes about ~10 minutes)\n",
    "dataset['Review Text'] = dataset['Review Text'].progress_apply(lemmentization)"
   ]
  },
  {
   "cell_type": "markdown",
   "metadata": {},
   "source": [
    "## Resampling"
   ]
  },
  {
   "cell_type": "code",
   "execution_count": 19,
   "metadata": {},
   "outputs": [],
   "source": [
    "from sklearn.utils import resample"
   ]
  },
  {
   "cell_type": "code",
   "execution_count": 20,
   "metadata": {},
   "outputs": [],
   "source": [
    "# define a random state for reproducible results\n",
    "random_state = 42\n",
    "\n",
    "# upsample the minority class ('not-recommended') by duplicating random samples\n",
    "# 1 = recommended\n",
    "# 0 = not-recommended\n",
    "up_sample = resample(dataset[dataset['Recommended IND']==0],\n",
    "                    replace = True, # sample with replacement\n",
    "                    n_samples = 10000, # to match majority class\n",
    "                    random_state = random_state) # set reproducible results"
   ]
  },
  {
   "cell_type": "code",
   "execution_count": 21,
   "metadata": {},
   "outputs": [],
   "source": [
    "# combine the up-sampled minority class with the rest of the data\n",
    "dataset_balanced = pd.concat([dataset[dataset['Recommended IND']!=0], up_sample])"
   ]
  },
  {
   "cell_type": "code",
   "execution_count": 22,
   "metadata": {},
   "outputs": [
    {
     "name": "stdout",
     "output_type": "stream",
     "text": [
      "Before:\n",
      "1    18540\n",
      "0     4101\n",
      "Name: Recommended IND, dtype: int64 \n",
      "\n",
      "After:\n",
      "1    18540\n",
      "0    10000\n",
      "Name: Recommended IND, dtype: int64\n"
     ]
    }
   ],
   "source": [
    "print('Before:')\n",
    "print(dataset['Recommended IND'].value_counts(), '\\n')\n",
    "\n",
    "print('After:')\n",
    "print(dataset_balanced['Recommended IND'].value_counts())"
   ]
  },
  {
   "cell_type": "markdown",
   "metadata": {},
   "source": [
    "## TF-IDF"
   ]
  },
  {
   "cell_type": "code",
   "execution_count": 23,
   "metadata": {},
   "outputs": [],
   "source": [
    "from sklearn.feature_extraction.text import TfidfVectorizer"
   ]
  },
  {
   "cell_type": "code",
   "execution_count": 24,
   "metadata": {},
   "outputs": [],
   "source": [
    "# define the corpus\n",
    "corpus = dataset['Review Text']\n",
    "\n",
    "# max_feature helps condense the sparse matrix by keeping only the top n number of words in the corpus' vocabulary\n",
    "# in this case, the 1500 most frequent words are kept\n",
    "cv = TfidfVectorizer(max_features=1500)\n",
    "\n",
    "# create the matrix\n",
    "X = cv.fit_transform(corpus).toarray() \n",
    "\n",
    "# adding the dependent variable [recommended (1) vs not-recommended (0)]\n",
    "y = dataset['Recommended IND'].values"
   ]
  },
  {
   "cell_type": "markdown",
   "metadata": {},
   "source": [
    "## Train/Test Split"
   ]
  },
  {
   "cell_type": "code",
   "execution_count": 25,
   "metadata": {},
   "outputs": [],
   "source": [
    "# splitting the dataset into an 80% training and 20% test set\n",
    "from sklearn.model_selection import train_test_split\n",
    "X_train, X_test, y_train, y_test = train_test_split(X, y, \n",
    "                                                    test_size=0.20, \n",
    "                                                    random_state=0, \n",
    "                                                    shuffle=True)"
   ]
  },
  {
   "cell_type": "markdown",
   "metadata": {},
   "source": [
    "## Grid-Search"
   ]
  },
  {
   "cell_type": "code",
   "execution_count": 26,
   "metadata": {},
   "outputs": [],
   "source": [
    "from sklearn.ensemble import RandomForestClassifier\n",
    "classifier = RandomForestClassifier()"
   ]
  },
  {
   "cell_type": "code",
   "execution_count": 27,
   "metadata": {},
   "outputs": [],
   "source": [
    "from sklearn.model_selection import GridSearchCV\n",
    "\n",
    "parameters = [{'criterion': ['gini','entropy'],\n",
    "               'n_estimators': [1, 10, 50, 100, 300],\n",
    "               #'max_depth': [2, 3, 4, 5], \n",
    "               #\"min_samples_leaf\":[1, 5, 10], \n",
    "               #\"min_samples_split\" : [2, 4, 10, 12, 16]\n",
    "              }]"
   ]
  },
  {
   "cell_type": "code",
   "execution_count": 28,
   "metadata": {},
   "outputs": [
    {
     "name": "stdout",
     "output_type": "stream",
     "text": [
      "Best accuracy: 0.8616938563411592\n",
      "Best parameters: {'criterion': 'gini', 'n_estimators': 50}\n"
     ]
    }
   ],
   "source": [
    "# determine which combination of parameters leads to the best results\n",
    "grid_search = GridSearchCV(estimator=classifier, \n",
    "                           param_grid=parameters, \n",
    "                           scoring='accuracy')\n",
    "\n",
    "grid = grid_search.fit(X_train, y_train)\n",
    "\n",
    "print('Best accuracy: {}'.format(grid.best_score_))\n",
    "print('Best parameters: {}'.format(grid.best_params_))"
   ]
  },
  {
   "cell_type": "markdown",
   "metadata": {},
   "source": [
    "## Random Forest"
   ]
  },
  {
   "cell_type": "code",
   "execution_count": 29,
   "metadata": {},
   "outputs": [],
   "source": [
    "# fit the optimized Random Forest model onto the training set\n",
    "classifier = RandomForestClassifier(n_estimators=50, \n",
    "                                    criterion='gini', \n",
    "                                    random_state=random_state)\n",
    "classifier.fit(X_train, y_train)\n",
    "\n",
    "# predict the test results\n",
    "y_pred = classifier.predict(X_test)"
   ]
  },
  {
   "cell_type": "markdown",
   "metadata": {},
   "source": [
    "## Model Metrics"
   ]
  },
  {
   "cell_type": "code",
   "execution_count": 30,
   "metadata": {},
   "outputs": [],
   "source": [
    "from sklearn.metrics import accuracy_score, recall_score, precision_score, f1_score, plot_confusion_matrix, plot_roc_curve"
   ]
  },
  {
   "cell_type": "code",
   "execution_count": 32,
   "metadata": {},
   "outputs": [
    {
     "name": "stdout",
     "output_type": "stream",
     "text": [
      "Accuracy:          0.85\n",
      "Recall Score:      0.98\n",
      "Percision Score:   0.85\n",
      "F1-Score:          0.91\n"
     ]
    }
   ],
   "source": [
    "# metrics\n",
    "print(\"Accuracy:\".ljust(18), round(accuracy_score(y_test, y_pred),2))\n",
    "print(\"Recall Score:\".ljust(18), round(recall_score(y_test, y_pred),2))\n",
    "print(\"Percision Score:\".ljust(18), round(precision_score(y_test, y_pred),2))\n",
    "print(\"F1-Score:\".ljust(18), round(f1_score(y_test, y_pred),2))"
   ]
  },
  {
   "cell_type": "code",
   "execution_count": 33,
   "metadata": {},
   "outputs": [
    {
     "data": {
      "text/plain": [
       "<sklearn.metrics._plot.confusion_matrix.ConfusionMatrixDisplay at 0x3fafa780>"
      ]
     },
     "execution_count": 33,
     "metadata": {},
     "output_type": "execute_result"
    },
    {
     "data": {
      "image/png": "[encoded data removed]",
      "text/plain": [
       "<Figure size 432x288 with 2 Axes>"
      ]
     },
     "metadata": {
      "needs_background": "light"
     },
     "output_type": "display_data"
    }
   ],
   "source": [
    "# confusion matrix\n",
    "plot_confusion_matrix(classifier, X_test, y_test)"
   ]
  },
  {
   "cell_type": "code",
   "execution_count": 34,
   "metadata": {},
   "outputs": [
    {
     "data": {
      "text/plain": [
       "<sklearn.metrics._plot.roc_curve.RocCurveDisplay at 0x4510fe10>"
      ]
     },
     "execution_count": 34,
     "metadata": {},
     "output_type": "execute_result"
    },
    {
     "data": {
      "image/png": "[encoded data removed]",
      "text/plain": [
       "<Figure size 432x288 with 1 Axes>"
      ]
     },
     "metadata": {
      "needs_background": "light"
     },
     "output_type": "display_data"
    }
   ],
   "source": [
    "# ROC curve\n",
    "plot_roc_curve(classifier, X_test, y_test)"
   ]
  },
  {
   "cell_type": "markdown",
   "metadata": {},
   "source": [
    "## Save the Model"
   ]
  },
  {
   "cell_type": "code",
   "execution_count": 35,
   "metadata": {},
   "outputs": [],
   "source": [
    "import pickle"
   ]
  },
  {
   "cell_type": "code",
   "execution_count": 36,
   "metadata": {},
   "outputs": [],
   "source": [
    "# save the model to disk\n",
    "filename = \"optimized_random_forest.sav\"\n",
    "pickle.dump(classifier, open(filename, 'wb'))"
   ]
  },
  {
   "cell_type": "code",
   "execution_count": null,
   "metadata": {},
   "outputs": [],
   "source": []
  }
 ],
 "metadata": {
  "kernelspec": {
   "display_name": "Python 3 (ipykernel)",
   "language": "python",
   "name": "python3"
  },
  "language_info": {
   "codemirror_mode": {
    "name": "ipython",
    "version": 3
   },
   "file_extension": ".py",
   "mimetype": "text/x-python",
   "name": "python",
   "nbconvert_exporter": "python",
   "pygments_lexer": "ipython3",
   "version": "3.7.3"
  }
 },
 "nbformat": 4,
 "nbformat_minor": 2
}
